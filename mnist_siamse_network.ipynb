{
  "nbformat": 4,
  "nbformat_minor": 0,
  "metadata": {
    "colab": {
      "name": "mnist_siamse_network.ipynb",
      "provenance": []
    },
    "kernelspec": {
      "name": "python3",
      "display_name": "Python 3"
    },
    "widgets": {
      "application/vnd.jupyter.widget-state+json": {
        "9ff6aaaba8284e39b63c172fea74fc75": {
          "model_module": "@jupyter-widgets/controls",
          "model_name": "HBoxModel",
          "state": {
            "_view_name": "HBoxView",
            "_dom_classes": [],
            "_model_name": "HBoxModel",
            "_view_module": "@jupyter-widgets/controls",
            "_model_module_version": "1.5.0",
            "_view_count": null,
            "_view_module_version": "1.5.0",
            "box_style": "",
            "layout": "IPY_MODEL_0e0ef138f1b74082b8867013ddb8c2a1",
            "_model_module": "@jupyter-widgets/controls",
            "children": [
              "IPY_MODEL_b479751df938450c91bc05f97e2a3960",
              "IPY_MODEL_b55accc918534b25b245fdd394d0b76f"
            ]
          }
        },
        "0e0ef138f1b74082b8867013ddb8c2a1": {
          "model_module": "@jupyter-widgets/base",
          "model_name": "LayoutModel",
          "state": {
            "_view_name": "LayoutView",
            "grid_template_rows": null,
            "right": null,
            "justify_content": null,
            "_view_module": "@jupyter-widgets/base",
            "overflow": null,
            "_model_module_version": "1.2.0",
            "_view_count": null,
            "flex_flow": null,
            "width": null,
            "min_width": null,
            "border": null,
            "align_items": null,
            "bottom": null,
            "_model_module": "@jupyter-widgets/base",
            "top": null,
            "grid_column": null,
            "overflow_y": null,
            "overflow_x": null,
            "grid_auto_flow": null,
            "grid_area": null,
            "grid_template_columns": null,
            "flex": null,
            "_model_name": "LayoutModel",
            "justify_items": null,
            "grid_row": null,
            "max_height": null,
            "align_content": null,
            "visibility": null,
            "align_self": null,
            "height": null,
            "min_height": null,
            "padding": null,
            "grid_auto_rows": null,
            "grid_gap": null,
            "max_width": null,
            "order": null,
            "_view_module_version": "1.2.0",
            "grid_template_areas": null,
            "object_position": null,
            "object_fit": null,
            "grid_auto_columns": null,
            "margin": null,
            "display": null,
            "left": null
          }
        },
        "b479751df938450c91bc05f97e2a3960": {
          "model_module": "@jupyter-widgets/controls",
          "model_name": "FloatProgressModel",
          "state": {
            "_view_name": "ProgressView",
            "style": "IPY_MODEL_37c525817e8a4a0b9cc6438834dc3780",
            "_dom_classes": [],
            "description": "",
            "_model_name": "FloatProgressModel",
            "bar_style": "info",
            "max": 1,
            "_view_module": "@jupyter-widgets/controls",
            "_model_module_version": "1.5.0",
            "value": 1,
            "_view_count": null,
            "_view_module_version": "1.5.0",
            "orientation": "horizontal",
            "min": 0,
            "description_tooltip": null,
            "_model_module": "@jupyter-widgets/controls",
            "layout": "IPY_MODEL_3d12890907e64672b4ecfb0d18461b39"
          }
        },
        "b55accc918534b25b245fdd394d0b76f": {
          "model_module": "@jupyter-widgets/controls",
          "model_name": "HTMLModel",
          "state": {
            "_view_name": "HTMLView",
            "style": "IPY_MODEL_f75899716d80421bad482e3ff5c2a339",
            "_dom_classes": [],
            "description": "",
            "_model_name": "HTMLModel",
            "placeholder": "​",
            "_view_module": "@jupyter-widgets/controls",
            "_model_module_version": "1.5.0",
            "value": " 9920512/? [00:20&lt;00:00, 2898060.37it/s]",
            "_view_count": null,
            "_view_module_version": "1.5.0",
            "description_tooltip": null,
            "_model_module": "@jupyter-widgets/controls",
            "layout": "IPY_MODEL_1438f460f79f4c1c8a2298596bfd880c"
          }
        },
        "37c525817e8a4a0b9cc6438834dc3780": {
          "model_module": "@jupyter-widgets/controls",
          "model_name": "ProgressStyleModel",
          "state": {
            "_view_name": "StyleView",
            "_model_name": "ProgressStyleModel",
            "description_width": "initial",
            "_view_module": "@jupyter-widgets/base",
            "_model_module_version": "1.5.0",
            "_view_count": null,
            "_view_module_version": "1.2.0",
            "bar_color": null,
            "_model_module": "@jupyter-widgets/controls"
          }
        },
        "3d12890907e64672b4ecfb0d18461b39": {
          "model_module": "@jupyter-widgets/base",
          "model_name": "LayoutModel",
          "state": {
            "_view_name": "LayoutView",
            "grid_template_rows": null,
            "right": null,
            "justify_content": null,
            "_view_module": "@jupyter-widgets/base",
            "overflow": null,
            "_model_module_version": "1.2.0",
            "_view_count": null,
            "flex_flow": null,
            "width": null,
            "min_width": null,
            "border": null,
            "align_items": null,
            "bottom": null,
            "_model_module": "@jupyter-widgets/base",
            "top": null,
            "grid_column": null,
            "overflow_y": null,
            "overflow_x": null,
            "grid_auto_flow": null,
            "grid_area": null,
            "grid_template_columns": null,
            "flex": null,
            "_model_name": "LayoutModel",
            "justify_items": null,
            "grid_row": null,
            "max_height": null,
            "align_content": null,
            "visibility": null,
            "align_self": null,
            "height": null,
            "min_height": null,
            "padding": null,
            "grid_auto_rows": null,
            "grid_gap": null,
            "max_width": null,
            "order": null,
            "_view_module_version": "1.2.0",
            "grid_template_areas": null,
            "object_position": null,
            "object_fit": null,
            "grid_auto_columns": null,
            "margin": null,
            "display": null,
            "left": null
          }
        },
        "f75899716d80421bad482e3ff5c2a339": {
          "model_module": "@jupyter-widgets/controls",
          "model_name": "DescriptionStyleModel",
          "state": {
            "_view_name": "StyleView",
            "_model_name": "DescriptionStyleModel",
            "description_width": "",
            "_view_module": "@jupyter-widgets/base",
            "_model_module_version": "1.5.0",
            "_view_count": null,
            "_view_module_version": "1.2.0",
            "_model_module": "@jupyter-widgets/controls"
          }
        },
        "1438f460f79f4c1c8a2298596bfd880c": {
          "model_module": "@jupyter-widgets/base",
          "model_name": "LayoutModel",
          "state": {
            "_view_name": "LayoutView",
            "grid_template_rows": null,
            "right": null,
            "justify_content": null,
            "_view_module": "@jupyter-widgets/base",
            "overflow": null,
            "_model_module_version": "1.2.0",
            "_view_count": null,
            "flex_flow": null,
            "width": null,
            "min_width": null,
            "border": null,
            "align_items": null,
            "bottom": null,
            "_model_module": "@jupyter-widgets/base",
            "top": null,
            "grid_column": null,
            "overflow_y": null,
            "overflow_x": null,
            "grid_auto_flow": null,
            "grid_area": null,
            "grid_template_columns": null,
            "flex": null,
            "_model_name": "LayoutModel",
            "justify_items": null,
            "grid_row": null,
            "max_height": null,
            "align_content": null,
            "visibility": null,
            "align_self": null,
            "height": null,
            "min_height": null,
            "padding": null,
            "grid_auto_rows": null,
            "grid_gap": null,
            "max_width": null,
            "order": null,
            "_view_module_version": "1.2.0",
            "grid_template_areas": null,
            "object_position": null,
            "object_fit": null,
            "grid_auto_columns": null,
            "margin": null,
            "display": null,
            "left": null
          }
        },
        "83ee36ed488643a9a4c36a1884daf3ea": {
          "model_module": "@jupyter-widgets/controls",
          "model_name": "HBoxModel",
          "state": {
            "_view_name": "HBoxView",
            "_dom_classes": [],
            "_model_name": "HBoxModel",
            "_view_module": "@jupyter-widgets/controls",
            "_model_module_version": "1.5.0",
            "_view_count": null,
            "_view_module_version": "1.5.0",
            "box_style": "",
            "layout": "IPY_MODEL_66ae95d468624cceae6f350e9e6bec62",
            "_model_module": "@jupyter-widgets/controls",
            "children": [
              "IPY_MODEL_9b207c0e93bc491ca8b9e9b8bba7ef0f",
              "IPY_MODEL_43254d848e7146d58c53cd15a27ea3f6"
            ]
          }
        },
        "66ae95d468624cceae6f350e9e6bec62": {
          "model_module": "@jupyter-widgets/base",
          "model_name": "LayoutModel",
          "state": {
            "_view_name": "LayoutView",
            "grid_template_rows": null,
            "right": null,
            "justify_content": null,
            "_view_module": "@jupyter-widgets/base",
            "overflow": null,
            "_model_module_version": "1.2.0",
            "_view_count": null,
            "flex_flow": null,
            "width": null,
            "min_width": null,
            "border": null,
            "align_items": null,
            "bottom": null,
            "_model_module": "@jupyter-widgets/base",
            "top": null,
            "grid_column": null,
            "overflow_y": null,
            "overflow_x": null,
            "grid_auto_flow": null,
            "grid_area": null,
            "grid_template_columns": null,
            "flex": null,
            "_model_name": "LayoutModel",
            "justify_items": null,
            "grid_row": null,
            "max_height": null,
            "align_content": null,
            "visibility": null,
            "align_self": null,
            "height": null,
            "min_height": null,
            "padding": null,
            "grid_auto_rows": null,
            "grid_gap": null,
            "max_width": null,
            "order": null,
            "_view_module_version": "1.2.0",
            "grid_template_areas": null,
            "object_position": null,
            "object_fit": null,
            "grid_auto_columns": null,
            "margin": null,
            "display": null,
            "left": null
          }
        },
        "9b207c0e93bc491ca8b9e9b8bba7ef0f": {
          "model_module": "@jupyter-widgets/controls",
          "model_name": "FloatProgressModel",
          "state": {
            "_view_name": "ProgressView",
            "style": "IPY_MODEL_f23d6bdc036042efa690332ecf703e06",
            "_dom_classes": [],
            "description": "",
            "_model_name": "FloatProgressModel",
            "bar_style": "success",
            "max": 1,
            "_view_module": "@jupyter-widgets/controls",
            "_model_module_version": "1.5.0",
            "value": 1,
            "_view_count": null,
            "_view_module_version": "1.5.0",
            "orientation": "horizontal",
            "min": 0,
            "description_tooltip": null,
            "_model_module": "@jupyter-widgets/controls",
            "layout": "IPY_MODEL_39bc1c82ce654f48b339d78650b34716"
          }
        },
        "43254d848e7146d58c53cd15a27ea3f6": {
          "model_module": "@jupyter-widgets/controls",
          "model_name": "HTMLModel",
          "state": {
            "_view_name": "HTMLView",
            "style": "IPY_MODEL_43e8ded18e7d4386b7a32000e0472880",
            "_dom_classes": [],
            "description": "",
            "_model_name": "HTMLModel",
            "placeholder": "​",
            "_view_module": "@jupyter-widgets/controls",
            "_model_module_version": "1.5.0",
            "value": " 32768/? [00:00&lt;00:00, 67106.67it/s]",
            "_view_count": null,
            "_view_module_version": "1.5.0",
            "description_tooltip": null,
            "_model_module": "@jupyter-widgets/controls",
            "layout": "IPY_MODEL_35f90112c0b1434db0916f9b4f9855a0"
          }
        },
        "f23d6bdc036042efa690332ecf703e06": {
          "model_module": "@jupyter-widgets/controls",
          "model_name": "ProgressStyleModel",
          "state": {
            "_view_name": "StyleView",
            "_model_name": "ProgressStyleModel",
            "description_width": "initial",
            "_view_module": "@jupyter-widgets/base",
            "_model_module_version": "1.5.0",
            "_view_count": null,
            "_view_module_version": "1.2.0",
            "bar_color": null,
            "_model_module": "@jupyter-widgets/controls"
          }
        },
        "39bc1c82ce654f48b339d78650b34716": {
          "model_module": "@jupyter-widgets/base",
          "model_name": "LayoutModel",
          "state": {
            "_view_name": "LayoutView",
            "grid_template_rows": null,
            "right": null,
            "justify_content": null,
            "_view_module": "@jupyter-widgets/base",
            "overflow": null,
            "_model_module_version": "1.2.0",
            "_view_count": null,
            "flex_flow": null,
            "width": null,
            "min_width": null,
            "border": null,
            "align_items": null,
            "bottom": null,
            "_model_module": "@jupyter-widgets/base",
            "top": null,
            "grid_column": null,
            "overflow_y": null,
            "overflow_x": null,
            "grid_auto_flow": null,
            "grid_area": null,
            "grid_template_columns": null,
            "flex": null,
            "_model_name": "LayoutModel",
            "justify_items": null,
            "grid_row": null,
            "max_height": null,
            "align_content": null,
            "visibility": null,
            "align_self": null,
            "height": null,
            "min_height": null,
            "padding": null,
            "grid_auto_rows": null,
            "grid_gap": null,
            "max_width": null,
            "order": null,
            "_view_module_version": "1.2.0",
            "grid_template_areas": null,
            "object_position": null,
            "object_fit": null,
            "grid_auto_columns": null,
            "margin": null,
            "display": null,
            "left": null
          }
        },
        "43e8ded18e7d4386b7a32000e0472880": {
          "model_module": "@jupyter-widgets/controls",
          "model_name": "DescriptionStyleModel",
          "state": {
            "_view_name": "StyleView",
            "_model_name": "DescriptionStyleModel",
            "description_width": "",
            "_view_module": "@jupyter-widgets/base",
            "_model_module_version": "1.5.0",
            "_view_count": null,
            "_view_module_version": "1.2.0",
            "_model_module": "@jupyter-widgets/controls"
          }
        },
        "35f90112c0b1434db0916f9b4f9855a0": {
          "model_module": "@jupyter-widgets/base",
          "model_name": "LayoutModel",
          "state": {
            "_view_name": "LayoutView",
            "grid_template_rows": null,
            "right": null,
            "justify_content": null,
            "_view_module": "@jupyter-widgets/base",
            "overflow": null,
            "_model_module_version": "1.2.0",
            "_view_count": null,
            "flex_flow": null,
            "width": null,
            "min_width": null,
            "border": null,
            "align_items": null,
            "bottom": null,
            "_model_module": "@jupyter-widgets/base",
            "top": null,
            "grid_column": null,
            "overflow_y": null,
            "overflow_x": null,
            "grid_auto_flow": null,
            "grid_area": null,
            "grid_template_columns": null,
            "flex": null,
            "_model_name": "LayoutModel",
            "justify_items": null,
            "grid_row": null,
            "max_height": null,
            "align_content": null,
            "visibility": null,
            "align_self": null,
            "height": null,
            "min_height": null,
            "padding": null,
            "grid_auto_rows": null,
            "grid_gap": null,
            "max_width": null,
            "order": null,
            "_view_module_version": "1.2.0",
            "grid_template_areas": null,
            "object_position": null,
            "object_fit": null,
            "grid_auto_columns": null,
            "margin": null,
            "display": null,
            "left": null
          }
        },
        "17cc415f58a34158a08d6100c80f50ae": {
          "model_module": "@jupyter-widgets/controls",
          "model_name": "HBoxModel",
          "state": {
            "_view_name": "HBoxView",
            "_dom_classes": [],
            "_model_name": "HBoxModel",
            "_view_module": "@jupyter-widgets/controls",
            "_model_module_version": "1.5.0",
            "_view_count": null,
            "_view_module_version": "1.5.0",
            "box_style": "",
            "layout": "IPY_MODEL_c52f0736424b49729a35529b28852402",
            "_model_module": "@jupyter-widgets/controls",
            "children": [
              "IPY_MODEL_e60be01c347b4023b8acbb1741ebb5ad",
              "IPY_MODEL_921bb2f38a804916aec2e084bef15c12"
            ]
          }
        },
        "c52f0736424b49729a35529b28852402": {
          "model_module": "@jupyter-widgets/base",
          "model_name": "LayoutModel",
          "state": {
            "_view_name": "LayoutView",
            "grid_template_rows": null,
            "right": null,
            "justify_content": null,
            "_view_module": "@jupyter-widgets/base",
            "overflow": null,
            "_model_module_version": "1.2.0",
            "_view_count": null,
            "flex_flow": null,
            "width": null,
            "min_width": null,
            "border": null,
            "align_items": null,
            "bottom": null,
            "_model_module": "@jupyter-widgets/base",
            "top": null,
            "grid_column": null,
            "overflow_y": null,
            "overflow_x": null,
            "grid_auto_flow": null,
            "grid_area": null,
            "grid_template_columns": null,
            "flex": null,
            "_model_name": "LayoutModel",
            "justify_items": null,
            "grid_row": null,
            "max_height": null,
            "align_content": null,
            "visibility": null,
            "align_self": null,
            "height": null,
            "min_height": null,
            "padding": null,
            "grid_auto_rows": null,
            "grid_gap": null,
            "max_width": null,
            "order": null,
            "_view_module_version": "1.2.0",
            "grid_template_areas": null,
            "object_position": null,
            "object_fit": null,
            "grid_auto_columns": null,
            "margin": null,
            "display": null,
            "left": null
          }
        },
        "e60be01c347b4023b8acbb1741ebb5ad": {
          "model_module": "@jupyter-widgets/controls",
          "model_name": "FloatProgressModel",
          "state": {
            "_view_name": "ProgressView",
            "style": "IPY_MODEL_1e94880f5c6f479faae927fa8eb8c60d",
            "_dom_classes": [],
            "description": "",
            "_model_name": "FloatProgressModel",
            "bar_style": "success",
            "max": 1,
            "_view_module": "@jupyter-widgets/controls",
            "_model_module_version": "1.5.0",
            "value": 1,
            "_view_count": null,
            "_view_module_version": "1.5.0",
            "orientation": "horizontal",
            "min": 0,
            "description_tooltip": null,
            "_model_module": "@jupyter-widgets/controls",
            "layout": "IPY_MODEL_0fad865d57d14bfda86568c8f1ea715b"
          }
        },
        "921bb2f38a804916aec2e084bef15c12": {
          "model_module": "@jupyter-widgets/controls",
          "model_name": "HTMLModel",
          "state": {
            "_view_name": "HTMLView",
            "style": "IPY_MODEL_27ca3f4126c6465a9bdefadcf87dbc74",
            "_dom_classes": [],
            "description": "",
            "_model_name": "HTMLModel",
            "placeholder": "​",
            "_view_module": "@jupyter-widgets/controls",
            "_model_module_version": "1.5.0",
            "value": " 1654784/? [00:00&lt;00:00, 4786227.99it/s]",
            "_view_count": null,
            "_view_module_version": "1.5.0",
            "description_tooltip": null,
            "_model_module": "@jupyter-widgets/controls",
            "layout": "IPY_MODEL_8ffed309d3ba4ceb8bcd165849fb400c"
          }
        },
        "1e94880f5c6f479faae927fa8eb8c60d": {
          "model_module": "@jupyter-widgets/controls",
          "model_name": "ProgressStyleModel",
          "state": {
            "_view_name": "StyleView",
            "_model_name": "ProgressStyleModel",
            "description_width": "initial",
            "_view_module": "@jupyter-widgets/base",
            "_model_module_version": "1.5.0",
            "_view_count": null,
            "_view_module_version": "1.2.0",
            "bar_color": null,
            "_model_module": "@jupyter-widgets/controls"
          }
        },
        "0fad865d57d14bfda86568c8f1ea715b": {
          "model_module": "@jupyter-widgets/base",
          "model_name": "LayoutModel",
          "state": {
            "_view_name": "LayoutView",
            "grid_template_rows": null,
            "right": null,
            "justify_content": null,
            "_view_module": "@jupyter-widgets/base",
            "overflow": null,
            "_model_module_version": "1.2.0",
            "_view_count": null,
            "flex_flow": null,
            "width": null,
            "min_width": null,
            "border": null,
            "align_items": null,
            "bottom": null,
            "_model_module": "@jupyter-widgets/base",
            "top": null,
            "grid_column": null,
            "overflow_y": null,
            "overflow_x": null,
            "grid_auto_flow": null,
            "grid_area": null,
            "grid_template_columns": null,
            "flex": null,
            "_model_name": "LayoutModel",
            "justify_items": null,
            "grid_row": null,
            "max_height": null,
            "align_content": null,
            "visibility": null,
            "align_self": null,
            "height": null,
            "min_height": null,
            "padding": null,
            "grid_auto_rows": null,
            "grid_gap": null,
            "max_width": null,
            "order": null,
            "_view_module_version": "1.2.0",
            "grid_template_areas": null,
            "object_position": null,
            "object_fit": null,
            "grid_auto_columns": null,
            "margin": null,
            "display": null,
            "left": null
          }
        },
        "27ca3f4126c6465a9bdefadcf87dbc74": {
          "model_module": "@jupyter-widgets/controls",
          "model_name": "DescriptionStyleModel",
          "state": {
            "_view_name": "StyleView",
            "_model_name": "DescriptionStyleModel",
            "description_width": "",
            "_view_module": "@jupyter-widgets/base",
            "_model_module_version": "1.5.0",
            "_view_count": null,
            "_view_module_version": "1.2.0",
            "_model_module": "@jupyter-widgets/controls"
          }
        },
        "8ffed309d3ba4ceb8bcd165849fb400c": {
          "model_module": "@jupyter-widgets/base",
          "model_name": "LayoutModel",
          "state": {
            "_view_name": "LayoutView",
            "grid_template_rows": null,
            "right": null,
            "justify_content": null,
            "_view_module": "@jupyter-widgets/base",
            "overflow": null,
            "_model_module_version": "1.2.0",
            "_view_count": null,
            "flex_flow": null,
            "width": null,
            "min_width": null,
            "border": null,
            "align_items": null,
            "bottom": null,
            "_model_module": "@jupyter-widgets/base",
            "top": null,
            "grid_column": null,
            "overflow_y": null,
            "overflow_x": null,
            "grid_auto_flow": null,
            "grid_area": null,
            "grid_template_columns": null,
            "flex": null,
            "_model_name": "LayoutModel",
            "justify_items": null,
            "grid_row": null,
            "max_height": null,
            "align_content": null,
            "visibility": null,
            "align_self": null,
            "height": null,
            "min_height": null,
            "padding": null,
            "grid_auto_rows": null,
            "grid_gap": null,
            "max_width": null,
            "order": null,
            "_view_module_version": "1.2.0",
            "grid_template_areas": null,
            "object_position": null,
            "object_fit": null,
            "grid_auto_columns": null,
            "margin": null,
            "display": null,
            "left": null
          }
        },
        "78a4ce1f41ab477b98f7ec89cbe742d5": {
          "model_module": "@jupyter-widgets/controls",
          "model_name": "HBoxModel",
          "state": {
            "_view_name": "HBoxView",
            "_dom_classes": [],
            "_model_name": "HBoxModel",
            "_view_module": "@jupyter-widgets/controls",
            "_model_module_version": "1.5.0",
            "_view_count": null,
            "_view_module_version": "1.5.0",
            "box_style": "",
            "layout": "IPY_MODEL_9f2bfd95131c455c8942438b9a46077e",
            "_model_module": "@jupyter-widgets/controls",
            "children": [
              "IPY_MODEL_d0ee6f9c121c43f7bd94214359d69149",
              "IPY_MODEL_1376b72db78041da909fb2dd25a51e9f"
            ]
          }
        },
        "9f2bfd95131c455c8942438b9a46077e": {
          "model_module": "@jupyter-widgets/base",
          "model_name": "LayoutModel",
          "state": {
            "_view_name": "LayoutView",
            "grid_template_rows": null,
            "right": null,
            "justify_content": null,
            "_view_module": "@jupyter-widgets/base",
            "overflow": null,
            "_model_module_version": "1.2.0",
            "_view_count": null,
            "flex_flow": null,
            "width": null,
            "min_width": null,
            "border": null,
            "align_items": null,
            "bottom": null,
            "_model_module": "@jupyter-widgets/base",
            "top": null,
            "grid_column": null,
            "overflow_y": null,
            "overflow_x": null,
            "grid_auto_flow": null,
            "grid_area": null,
            "grid_template_columns": null,
            "flex": null,
            "_model_name": "LayoutModel",
            "justify_items": null,
            "grid_row": null,
            "max_height": null,
            "align_content": null,
            "visibility": null,
            "align_self": null,
            "height": null,
            "min_height": null,
            "padding": null,
            "grid_auto_rows": null,
            "grid_gap": null,
            "max_width": null,
            "order": null,
            "_view_module_version": "1.2.0",
            "grid_template_areas": null,
            "object_position": null,
            "object_fit": null,
            "grid_auto_columns": null,
            "margin": null,
            "display": null,
            "left": null
          }
        },
        "d0ee6f9c121c43f7bd94214359d69149": {
          "model_module": "@jupyter-widgets/controls",
          "model_name": "FloatProgressModel",
          "state": {
            "_view_name": "ProgressView",
            "style": "IPY_MODEL_9205f0f8b0084490987b92f69e6e6d63",
            "_dom_classes": [],
            "description": "  0%",
            "_model_name": "FloatProgressModel",
            "bar_style": "info",
            "max": 1,
            "_view_module": "@jupyter-widgets/controls",
            "_model_module_version": "1.5.0",
            "value": 0,
            "_view_count": null,
            "_view_module_version": "1.5.0",
            "orientation": "horizontal",
            "min": 0,
            "description_tooltip": null,
            "_model_module": "@jupyter-widgets/controls",
            "layout": "IPY_MODEL_f02b6943ad4345f8af7364ed090ad483"
          }
        },
        "1376b72db78041da909fb2dd25a51e9f": {
          "model_module": "@jupyter-widgets/controls",
          "model_name": "HTMLModel",
          "state": {
            "_view_name": "HTMLView",
            "style": "IPY_MODEL_13531b16ff944b40b3c1f1b9afcc403b",
            "_dom_classes": [],
            "description": "",
            "_model_name": "HTMLModel",
            "placeholder": "​",
            "_view_module": "@jupyter-widgets/controls",
            "_model_module_version": "1.5.0",
            "value": " 0/4542 [00:00&lt;?, ?it/s]",
            "_view_count": null,
            "_view_module_version": "1.5.0",
            "description_tooltip": null,
            "_model_module": "@jupyter-widgets/controls",
            "layout": "IPY_MODEL_06167ba83236451aa03aa6a8beb852fd"
          }
        },
        "9205f0f8b0084490987b92f69e6e6d63": {
          "model_module": "@jupyter-widgets/controls",
          "model_name": "ProgressStyleModel",
          "state": {
            "_view_name": "StyleView",
            "_model_name": "ProgressStyleModel",
            "description_width": "initial",
            "_view_module": "@jupyter-widgets/base",
            "_model_module_version": "1.5.0",
            "_view_count": null,
            "_view_module_version": "1.2.0",
            "bar_color": null,
            "_model_module": "@jupyter-widgets/controls"
          }
        },
        "f02b6943ad4345f8af7364ed090ad483": {
          "model_module": "@jupyter-widgets/base",
          "model_name": "LayoutModel",
          "state": {
            "_view_name": "LayoutView",
            "grid_template_rows": null,
            "right": null,
            "justify_content": null,
            "_view_module": "@jupyter-widgets/base",
            "overflow": null,
            "_model_module_version": "1.2.0",
            "_view_count": null,
            "flex_flow": null,
            "width": null,
            "min_width": null,
            "border": null,
            "align_items": null,
            "bottom": null,
            "_model_module": "@jupyter-widgets/base",
            "top": null,
            "grid_column": null,
            "overflow_y": null,
            "overflow_x": null,
            "grid_auto_flow": null,
            "grid_area": null,
            "grid_template_columns": null,
            "flex": null,
            "_model_name": "LayoutModel",
            "justify_items": null,
            "grid_row": null,
            "max_height": null,
            "align_content": null,
            "visibility": null,
            "align_self": null,
            "height": null,
            "min_height": null,
            "padding": null,
            "grid_auto_rows": null,
            "grid_gap": null,
            "max_width": null,
            "order": null,
            "_view_module_version": "1.2.0",
            "grid_template_areas": null,
            "object_position": null,
            "object_fit": null,
            "grid_auto_columns": null,
            "margin": null,
            "display": null,
            "left": null
          }
        },
        "13531b16ff944b40b3c1f1b9afcc403b": {
          "model_module": "@jupyter-widgets/controls",
          "model_name": "DescriptionStyleModel",
          "state": {
            "_view_name": "StyleView",
            "_model_name": "DescriptionStyleModel",
            "description_width": "",
            "_view_module": "@jupyter-widgets/base",
            "_model_module_version": "1.5.0",
            "_view_count": null,
            "_view_module_version": "1.2.0",
            "_model_module": "@jupyter-widgets/controls"
          }
        },
        "06167ba83236451aa03aa6a8beb852fd": {
          "model_module": "@jupyter-widgets/base",
          "model_name": "LayoutModel",
          "state": {
            "_view_name": "LayoutView",
            "grid_template_rows": null,
            "right": null,
            "justify_content": null,
            "_view_module": "@jupyter-widgets/base",
            "overflow": null,
            "_model_module_version": "1.2.0",
            "_view_count": null,
            "flex_flow": null,
            "width": null,
            "min_width": null,
            "border": null,
            "align_items": null,
            "bottom": null,
            "_model_module": "@jupyter-widgets/base",
            "top": null,
            "grid_column": null,
            "overflow_y": null,
            "overflow_x": null,
            "grid_auto_flow": null,
            "grid_area": null,
            "grid_template_columns": null,
            "flex": null,
            "_model_name": "LayoutModel",
            "justify_items": null,
            "grid_row": null,
            "max_height": null,
            "align_content": null,
            "visibility": null,
            "align_self": null,
            "height": null,
            "min_height": null,
            "padding": null,
            "grid_auto_rows": null,
            "grid_gap": null,
            "max_width": null,
            "order": null,
            "_view_module_version": "1.2.0",
            "grid_template_areas": null,
            "object_position": null,
            "object_fit": null,
            "grid_auto_columns": null,
            "margin": null,
            "display": null,
            "left": null
          }
        }
      }
    }
  },
  "cells": [
    {
      "cell_type": "markdown",
      "metadata": {
        "id": "Rbc2JoYd0AiV",
        "colab_type": "text"
      },
      "source": [
        "#intro to siamse network"
      ]
    },
    {
      "cell_type": "markdown",
      "metadata": {
        "id": "Hvlwqi7p0FUP",
        "colab_type": "text"
      },
      "source": [
        "\n",
        "\n",
        "1.   Siamese is a architecture with two parallel layers. In this architecture instead of model learning to classify it's inputs using classification loss  functions, the model learns to differentiate between two given inputs.\n",
        "\n",
        "2.   It compares two inputs based on a similarity matric and check weather they are same or not.\n",
        "\n",
        "3. We learn image embedding using metric base approach with Siamese neural networks, and then reuse that network's features for one-shot learning without fine-tuning or retraining.\n",
        "\n",
        "4. A Siamese network consists of two identical neural networks that share similar parameters, each head taking input data point. \n",
        "\n",
        "5. In the middle layer we extract similar kind of features, as the weights and biases are the same. The last layer of this network are fed to contrastive loss function layer,  which calculates the similarity between two points.\n",
        "![architechture.png](data:image/png;base64,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)"
      ]
    },
    {
      "cell_type": "markdown",
      "metadata": {
        "id": "6BmMRk52yKOn",
        "colab_type": "text"
      },
      "source": [
        "#Libraries required"
      ]
    },
    {
      "cell_type": "code",
      "metadata": {
        "id": "SQccj_inm2Kx",
        "colab_type": "code",
        "colab": {}
      },
      "source": [
        "# -*- encoding: utf-8 -*-\n",
        "import argparse\n",
        "import torch\n",
        "import torchvision.datasets as dsets\n",
        "import random\n",
        "import numpy as np\n",
        "import time\n",
        "import matplotlib.pyplot as plt\n",
        "from torch.autograd import Variable\n",
        "from torchvision import transforms\n",
        "import pickle\n",
        "import torch\n",
        "import torch.nn as nn"
      ],
      "execution_count": 1,
      "outputs": []
    },
    {
      "cell_type": "markdown",
      "metadata": {
        "id": "FAH3ax4byUdj",
        "colab_type": "text"
      },
      "source": [
        "#preprocess "
      ]
    },
    {
      "cell_type": "code",
      "metadata": {
        "id": "eYXUZQLisM71",
        "colab_type": "code",
        "colab": {}
      },
      "source": [
        "class Dataset(object):\n",
        "  def __init__(self, x0, x1, label):\n",
        "    self.size = label.shape[0]\n",
        "    self.x0 = torch.from_numpy(x0)\n",
        "    self.x1 = torch.from_numpy(x1)\n",
        "    self.label = torch.from_numpy(label)\n",
        "  def __getitem__(self, index):\n",
        "    return (self.x0[index],\n",
        "    self.x1[index],\n",
        "    self.label[index])\n",
        "  def __len__(self):\n",
        "    return self.size"
      ],
      "execution_count": 2,
      "outputs": []
    },
    {
      "cell_type": "markdown",
      "metadata": {
        "id": "AHoH3vkIygAD",
        "colab_type": "text"
      },
      "source": [
        "#create pairs"
      ]
    },
    {
      "cell_type": "code",
      "metadata": {
        "id": "6YsPO3ARsoa_",
        "colab_type": "code",
        "colab": {}
      },
      "source": [
        "def create_pairs(data, digit_indices):\n",
        "  x0_data = []\n",
        "  x1_data = []\n",
        "  label = []\n",
        "  n = min([len(digit_indices[d]) for d in range(10)]) - 1\n",
        "  for d in range(10): # for MNIST dataset: as we have 10 digits\n",
        "    for i in range(n):\n",
        "      z1, z2 = digit_indices[d][i], digit_indices[d][i + 1]\n",
        "      x0_data.append(data[z1] / 255.) # Image Preprocessing      Step\n",
        "      x1_data.append(data[z2] / 255.) # Image Preprocessing      Step\n",
        "      label.append(1)\n",
        "      inc = random.randrange(1, 10)\n",
        "      dn = (d + inc) % 10\n",
        "      z1, z2 = digit_indices[d][i], digit_indices[dn][i]\n",
        "      x0_data.append(data[z1] / 255.) # Image Preprocessing      Step\n",
        "      x1_data.append(data[z2] / 255.) # Image Preprocessing      Step\n",
        "      label.append(0)\n",
        "  x0_data = np.array(x0_data, dtype=np.float32)\n",
        "  x0_data = x0_data.reshape([-1, 1, 28, 28])\n",
        "  x1_data = np.array(x1_data, dtype=np.float32)\n",
        "  x1_data = x1_data.reshape([-1, 1, 28, 28])\n",
        "  label = np.array(label, dtype=np.int32)\n",
        "  return x0_data, x1_data, label"
      ],
      "execution_count": 9,
      "outputs": []
    },
    {
      "cell_type": "markdown",
      "metadata": {
        "id": "kfDZQUQfylIa",
        "colab_type": "text"
      },
      "source": [
        "#iterator function"
      ]
    },
    {
      "cell_type": "code",
      "metadata": {
        "id": "4Tkw6InWtEBq",
        "colab_type": "code",
        "colab": {}
      },
      "source": [
        "def create_iterator(data, label, batchsize, shuffle=False):\n",
        " digit_indices = [np.where(label == i)[0] for i in range(10)]\n",
        " x0, x1, label = create_pairs(data, digit_indices)\n",
        " ret = Dataset(x0, x1, label)\n",
        " return ret"
      ],
      "execution_count": 4,
      "outputs": []
    },
    {
      "cell_type": "markdown",
      "metadata": {
        "id": "8qTkzdIRy474",
        "colab_type": "text"
      },
      "source": [
        "# contrastive_loss_function "
      ]
    },
    {
      "cell_type": "markdown",
      "metadata": {
        "id": "KSP5Lps409Ef",
        "colab_type": "text"
      },
      "source": [
        "![contrastive_loss_function.png](data:image/png;base64,iVBORw0KGgoAAAANSUhEUgAAAqsAAABTCAYAAAC4RU6sAAAAAXNSR0IArs4c6QAAAARnQU1BAACxjwv8YQUAAAAJcEhZcwAAEnQAABJ0Ad5mH3gAADdjSURBVHhe7d0JvG3l/D/w1SAzEVL4GTNLGTJlCBGZFV1jkVmJqFRIhgylgWQqyVxkqgz3CkUoRGYlSkKlMjUp67/eT+e5/3VXa+299j5nn7PPvd/P67Vf95691157ref5Dp/v8DxrtbJCEQgEAoFAIBAITCFWn/k3EAgEAoFAIBCYOgRZDQQCgUAgEAhMLYKsBgKBQCAQCASmFkFWA4FAIBAIBAJTiyCrgUAgEAgEAoGpRZDVQCAQCAQCgcDUIshqIBAIBAKBQGBqEWQ1EAgEAoFAIDC1CLIaCAQCgUAgEJhaBFkNBAKBQCAQCEwtgqwGAoFAIBAIBKYWQVYDgUCgBy688MLiqKOOKv7973/PvBNY2XH55ZenOT/vvPOKsixn3g0EAvON1SoFDA0MBAKBBpjGK664ojjnnHOKk08+ufjKV75SnHXWWcXnPve5Yr311ps5KrAywZxfeeWVxfnnn1/89Kc/LY499tjihBNOKA4//PBio402KtZYY42ZIwOBwHwiyGogEAi04Oijjy4++9nPFhdccEHKsP3sZz8rbnCDGyTiepvb3GbmqMDKhFNPPbU48MADi3PPPbe46qqrEmG9+OKLE2F9wAMeUKy55pozRwYCgflEtAEEAoFAC9Zff/3iEY94RPGiF72o2HLLLYtrXetaM58EVlasvfbaxYMe9KDi2c9+dpr3tdZaK8r/gcAUIDKrgUAg0IJLL720+O9//1tc97rXLZYtW1Zsu+22xeqrrx6Z1ZUY5vuSSy4prn3ta6ce5U033bT44x//WJx44omRWQ0EFhCRWQ0EAoEWIKk3utGNIqO6CsFc3/jGNy6uc53rFKutttrMu4FAYKERZDUQCAQCgUAgMLUIshoIBAKBQCAQmFoEWQ0EAoFAIBAITC2CrAYCgUBPxHrUVRMx74HAwiLIaiAQCAyBxTax4GbVQp7vmPdAYOERZDUQCAR6IjJsqw7yXMecBwILjyCrgUAgMAQIS34FVj3EvAcCs4M9jL/85S8Xe+yxR/Ga17ym+NCHPlT85S9/Kf73v//NHDEYQVYDgUBgCKapDQBx8gjQf/7zn70NfWB01NsAgqwGArPD4YcfXpx11lnp4Rp3vetd06OsEdc//elPvfQryGogEAgsEjDs++yzT/HWt761eNnLXlbsuuuuxS9/+cviyiuvnDkiMFfIDtS/QVYDgfFx7rnnFkcddVTKrj7kIQ8ptt566/R0uG9+85vFMcccU/z73/+eObIb80pWZQJC6QNzhcsvvzw9EnMxy1Rkx4riP//5TzJi04xMWBZS1vz2Jz7xiSQvDL3shLLaQQcdVFx00UUzRy0ecFCTINnGaRJ6NZu5d5/kfFXQdY+rpc8LqSuBuQE9uuqqq2b+ascVV1wx1A//+c9/To8t/u53v1tcdtllxU1ucpPi4Q9/ePrslFNOSboxDPNGVr/61a8WBxxwQBLkQGAuoKSw1157JSVYjE7A88bf/e53F//4xz9m3lk1cdJJJxX77rtvccEFF0yVg9NPdcIJJxRLly5NGQBGlv364he/mOzZ8ccfn4z0fOH0008vvv71rxe3u93tis0226x40YtelAz+1772tSRLrm+x4Le//W3KDssUz7XuIob7779/mrdRxwSB/t73vpfm+wtf+MLyjM9xxx2X5nzZsmXF+eefP9I1I24HH3xwmqf5lJeFAJtsXs8444xVgpivzDB/hxxySMp8DiKTiOjb3/724le/+lVn8HnLW96yuMc97lHc8Y53LNZaa630HsK65pprJv83jBDDapVz6PQOFPVnP/tZsfrqqxdrrLHG8h4ecCPe33jjjdMPDgI2/c53vjMZ1y222CJdLGN14YUXXuO8FPv2t799se6666bzZ5x33nnJWDve+77j2Lvd7W7F2muvvcI5RsHvf//74q9//Wv6fv0+RAsGNl/HT37yk+Jf//pXunYv92+AOY5b3OIWK1zrJCGb+OMf/zj9vudY5/t2La5rww03TO8br9/85jfpc884N81e7vFe97rXRJ93rp+O4Oa5yjBft73tbYv11lsvCajyJbjufB/1Y3z373//e5p3SpBlxf/dp3uWVUIq3vjGN6bv5PNMO0499dTiLW95S7HVVlsVT33qU9McLRaQI9Gw8a/rr/fpzX3uc5/iete7Xnovg76byywTWR7ZD/r3tre9rbj1rW9d7LjjjunZ7NOA73znO8XHPvaxRDAQ6UxSyKf7c98HHnhgshF9QCeco80w13X5hje8YXGnO91p+W9kfOMb30g29HGPe1xyDje96U1Tae0Vr3hF8bznPa/Yc889ky2cdpxzzjmpV+3e9753uu511lkn2aszzzwzyUbdZhgr98QW120WO/jTn/40fc6mGSf/Nxe3utWtEqnXI2dslB2vfe1rz3xzMJAtbRbsEweNTLM3bEuWy1122aXYaKONetlQ8vKRj3wkEeAddtgh3fMkbe9Cgmyzw/T4BS94QSIodfkNjAb2kYzzp/5fh3HNcg9sAd40l37EbwraPvzhDxfPfe5zi0c96lGt55d9/eAHP5gClNe97nXFHe5whxV0GPh1/p5t+7//+7+kA1/60peKV77ylcWznvWspFPswCAMJKsI2rve9a7kZGQUHOoibnCDGxTXuc51ElETRfm7CxzRtttuW9z//vcvXvva1y5X+De/+c3p/CbCjYAbuNGNbpQu/EEPetAK5BG7R0wQRhPE6TFiDAvC6u9xsN9++6WshHtk7Nyj81//+tcvdtttt+JhD3tYuuftt9+++PWvf52+47dcm2t1jIbh+rU6B2cusn/Vq141cHxGBeL2pje9KRn3PCfgmpAETp9A5PKg8fKZe3IdyAFH4RjfldUikBwI0rjBBhskZ8g5jDum3/rWt1JE9re//e0ac4uMyAadfPLJxXvf+95ENHM0lo9h1B/xiEek65HNeN/73pfIQp53EZl7I3+cCYe0ySabpBWGcznWk4KS7Ute8pJi/fXXL3bffffi5je/+XKjU4f5+fnPf54yPDvttNPUkDg6a6zNHfnikAG5YjTNDdJQv6e99947yRky633kASETxPrOD37wg6T3L37xi4unP/3pU0He2S4GmF1wzfl+zEt+0f2+1+r+GGy2Jss8WWZLwTjmUjGHbxwe//jHLz8/IiUTz5YKctgo2Tr29WlPe1rSfeebZrhvNvPss89OvoMMsK9k3IILdg0RNbbGm8xvueWWidSyWRmI7etf//p0HnAOnxuLJz3pSek9YyXZ8o53vGP57wyDBM1pp52W7Faec68832RBsE9m+5yPLWSvOeUnPvGJUyHXkwCZFXwLwum6LFrTf0gMyVALXIHfJt/Iy7i+ZmUG20rGf/e73y3PPpI5Os43kkfjTma9z2cvWbIktQhlmzJb0EVVgW9/+9tpXsl+21zhD/gdoso33OxmN5v5pB3swEtf+tLlPODBD37w0CBujb3UUTuAgN3mNrdJmYQjjjgiGYgHPvCBySCIVu973/smQRuktIiGTKCIi3POBp9hIdCAYf/hD39IREpEJvpEOvKxwLkRdhGz7z3jGc9ITP/ud797MgD1Y0eB36E0jOLnPve5dB0icwTI/SFP7s/nDCqHoQQnG4Z03fOe90xOQ1RJCTldYyWaRsaf/exnXyPLNBsQFONorGR+/IY0/Mtf/vKUtUbgHGO8kIljjz02EQeOz+dIHUfoGNfp5fq8KAVy+P3vfz8JWz7XqKBIvuu6EBRl+p133rl47GMfm4TdmDqGXCEESL1jEFlE2THG25y6D/PhPMi5CI+BM2c+y1l1kZ3vkddxrnk+IVvnnhFVyl2/XkTGPFDiT33qU2l7D6Vo91131gsJ441gk8Ff/OIXKeChFwgFonCXu9zlGoaHntFdOkJ/kCuBoGwAO0NGycDRRx+d9AoZGFen5wqumX0jy2S1/vKe1zADW4f5k5Ezt2wiPRDMCszopZeAk1wrNxtXY0PW6Yvv+79zZPuoJYEd2G677RZF1k7rxPvf//4UkN7vfvdbfr2cK13gcNlhVSF23XEcmepVXU/8H6E88sgjk/0lT+wCmSQ7xtD8fPzjH0/O3Lj2ceDGmQ2pzzkZyP8nr82MdxcEHrLdZJvPRDIWWqYnBX7vPe95T5LDtkz2j370o0Rm2XvBFh+k4srfmPfm/AautrNkmewaJ7aWbX3hC1+43GYIluk9XVB5+eEPf5hs86i2qQvsD7n//Oc/n+YOJ6JvTbBlfu+jH/3oct0Z9Pu4lHuStMHjenGkip0PReUsy4oUlBVpK6sfKa+44oqZTwajIpdlRSzLffbZp6yIxsy7K6JyUGVlHNK5H/3oR5cXXXTRzCcr4uKLLy6f/OQnl9XNlZXgl5UhKKuoYubT2eOCCy4oK0NXVpNTVgS4/Nvf/jbzydU48cQT070ccMAB5emnn15WEcfMJ1fjsMMOKytHXVaksHzMYx5TVspaVpNWnnfeeTNHzC3c+/77719WDiyN3eGHH15edtllM5+Wabwr8lBWpLqsovs0rlVkNvNpWVbGJV1nRZzKyjGkeaicaFlFZmUlOGUllGXlUMsqApr5xuioiFZZkc6yUrrytNNOW+H3MyrhTrLlmIp4t/6ea68UM93jhRdeeI159/lDH/rQ8jnPeU76fJpx7rnnllXAV+6yyy5Jpps46qij0px5PeEJTygrh11WTq6siP/MEdOFigyU66yzTpq/d7zjHeW//vWvmU9WhLk1h/vtt1+r/kBFZMsNNtigfPvb3955nsUOsluR8bIy5OX2229fVsHJzCdXg45UQWb5yU9+sqyCtDQe9LfN5lbOo6wIf7I7Z5xxRqt+zRYVoSh/9atf9bb5g8A+bb311uVWW21VnnPOOa32+9JLLy233HLLZD8rp1v+8pe/bL0v71Xkp6wC4PKYY45J9rt5nPPvvffeZRXEJp8xG1s2DirSXVbkoqyccqu8rywwrhWBSvNGDtvs8zbbbFNWQVZ53HHHpb//+c9/llWQlebmmc985tTat2mA8dpwww2Tn2cb/V1HRVTLs846q6yChbIKjMoqCCxPPfXUOZN383nggQemueqyRfCPf/wj+Sw6Tr+7QBer4C35c/avzQ60YXgdo4LsXXXjKdslqse2++DTn/50KhnKtjQjrQwRlkgLCxd92eKguviZT6+G39Yw7xzKKa6hb3TbF/olROZ+QwY5l4JA6V07REWGUn+F6F8EXocoR1pbJiD35U4S7r0i78v7PL7yla8sX0xg/GQvjL3UvLKADKQMcYaSmyyX6D9nDnKrhmhO+axymLNaECeTkH+za7Wg8n6eb9ffdowWED2qMrM5k1qH98yddo5ctp1WyIQpXT7lKU9pjVBFyUrh5IjezFU5Z1J45CMfmWTQnIjs2xaQyPDTH/OnTNWmP+B9Mii7WhnkVllY7FDmVjIjo7IizfmlL3r96HYVgKXqhAy7kmAdbKLynAqIPjHZwLp+zxXolNKu9o3ZQiZNVlk5vCtzbjwe/ehHJ92wpsHxbYuk6JEKEH8gM0MGm/fv/CpgbJysvn/nC65Z1UrWUCVwLrJc0wp+m5w85jGPSRnS5ryqipl78ky/2WtVAhlzlVqVI21zbfMcuLrfX1+ocW1bD4CP8eGqbyrNWo1UVJs2Y1z43YqEJj8tG+pa2iC7ysazF1om22yGyrXKiQoq/8YPaGXqOmcdvawbg4G4Ubo2stAGTkuq13eUrbsMqdR/Jon6Mghu8yZt16LMoDRvu5ZJlQtyH5g+DdfuX85F+cLvKulnx9wEITEBSpiIn2uctLMloIioCVcKRIIIFOfGQNiHUamtLbgQgGhd0F/IKeRrRQrdq/lCPozBuKgTZHPbDEIQVUQ0ExzHNMfMtSHWgoSusQdKwti572k1egiKcop5y+XvJvTWCXaUypG3voHhQgGx4oDor9I2GawHC4IdvYOck2CvzZll0BnEQx+yhQVzQZCmDYJgZWnzKujuCuLZIX37yJuWAN/JoCNsIt3Qy2z8J2UTBQ0cSVN3x4F2L2CTuu4bkB6Oz2+2kUzE5rDDDlveSjIooLvzne+cdIpDnCvn3Qfm2Qshcy99fOZiBWJkjshrWzkXwZE44VvqPbt0QBsdbkHG5zOYWExgC9lRi/z4jq7AR+DKpuAD2m3mUt79Lo7jvOayC/wW6NWu2yzg7yUwtRKw82wcUmtdRh+fPZSsMoiMg0ieEx1kZOpALvWgybwM+44Ges4bsdHzkAeZ05OR8ft6HpsLmeYa+sFEEK5X5G5gZRpz1nQQ6V4IY8RB6VWV8TZP+hstnkIa9MIhzl0ZXgGC3hLCzdjn6ze+eXcDC6Rmk6WkPHm8XF/d4TmvhQ8yiVk+CHP99xxvAc7mm2+eBHxQdgLBlsXgEGeTDZ4kZKv14skwdPXoLDanZn6f//znJzKK1Fidnp0O+bFpvQy7QLPZn9sGRow8WCA4zjwKsPRBIbzTmJnNvdcyJOzJoPHI2ULZ1bwAlFG3DsB4y8CziXqch20vMy7o4FyMo8BY9g1hacuC1oFccnp0hHOUWcpVLhWkD3zgA8U222yTqhPGYRDYP3ZQtUzP33wFQBYScdbIdJeu84+InsxkTgqYX3/n7dGMW7ab9EsyR+XBv/zkoLnxPTtQuBa7EWR96vqOseFr/bZ/8zVZK0K++PQmqXANZNrCXIFrU54FOxIjEhJ6d5v+m6/xnmRLk9z0Rds4+tff/IFxlHSqjyNZ7DuOCwnXZXFTlqVhfc8qFuaAn5nLpI05okf6VmVO2ypoIMEiQGSHzX2GapKFldbyWF9iwfozn/nMtBjLubt4Sh1DyaroEIkwaIPITxMafQlMn7YBQp6dVI5IkWNkEUOX8dRQPIz0zhbOL5WO8ZsU+8IynJ62gEwPc7QZWZjmg3ggcTIriByigKjKOAgSBq08dZ9aBSx8Q3YzzDPnSLGRi2FzNwhZcYwDwc3GAnIm2MIvxjwfUzcaSkeOUTa0oGQQ3KvIj2OrG/hpgrnhMDjsPno0n3I0G8ge0ROyoiIh8naf9k5lMOmPDEofWdIWJIPQ5hj7gJHO1zBtDgjZdF/sokUo7Mwg5HtgCxEJ32fokQnn4YQtahH0cQaTkHm/Pxfyp5WKXqq0DbPjdEMbBCLK92SCT39so4OgswmDKi11CIiNjQzVXDrwLhgzRMn8kue2IJudsu0ZImnFN+Lk+qx3tmjM933OmSudWmzHViONiKSdFPxtTNtAHqzetsWZdgkLzciK87/hDW9I41qHv51T65fjVRPt6ILs8YPeo898cp1UIopa9yQL2vyNFqAsxz5vBin5Pecxx6PqbH0cLVg1jsiU3YZU5Iyj6qFxFLDkcRT0qBi7Z+OBzE4jJHkEHGwGO9vHZpB1ZHKu7QG/xYYLPnLg04TEF1ngt3EotgvMMf+sOk1/2QEvnHJQQFfHULLKKDKUCCXWPCgirkO0b7D6rs7O/XkmhRFWtrFq2ipK5YX56vlRorLizjVTeNF719ZCXcgKN6rijQOGHTk1dhSOQAgQho0XQkBQZJPrJEKgQKnN3Wx3Msgr+o1DvQ2Aw+B0BCGu1+87JisakAPHILODMtp1KFVQDoYvK8kwkDX7MSorjvOSLc1Zn2HgsF2X6+xD3OZTjmYDBjQHR8aeMZP9I0ciaHajb6DnOLs/cICc4rB7lyWRaeOgzEN2fggRWeJstV50Gdf5BHsi44t0qtYMI23khe0lK4I190jmkBqtPrZ88UJgZK3my0aOA73k7oU/6HOdyDyfYy4REQ4bWTJufIXSel/4TWPIJ7mGSYPtMs+yhl1BKZvDrml5UApFuFSRVLv4HFknAaAMlTYathDpZjP1fZMHpDYHP3X4bdtlaaHQ/5u/g5w5D99a1wdj4vfpniBBy5VrlwVDcCVDjLff0n7ClmfQcb/fRcqRLTaPHrfZvPwen4BgjWrrcATjqPomUEWsjaM5169s1yDjqM0gjyPSZUzcp4BIkse9zUcgMyr0n/KL5sb8twUEdciCmw++t6/N7Qt2mTzT5abM1UEWzKMdYrK+qbJKkKmw6TOvvyQy+tiEXmSVE7AlCKfUl7QxzAQxE5ZhkCGkqAaYg5Et0B4wSuvBXMDv5x4owiuq7Ut8FgoEOI8xhR33ejlRyszAaBPILRHjgrwQbtdW70flfIxxXvhVPyaTVWVg73NaXQa/CQbW/GVC0AcIvuPHfSFLfQ0snXDssDLoYgRdNd9sBVKhLGeLlT6BUxOCQ8ZQ1mjYPMoIcVivfvWrk9OhC0plHJ/rkF3i1KeBrCKbCLhxEqQNkmv3LXDMRABZEOTIBMmuIhccs38PPfTQkfRkVIxKINqgWkM2OK0+TpSOyCSxExy2bJj3lP9HTR7kUrNrmA9bzn6aZ9fbdq/aYxBHRNLcOkaLAh+LqFp0ZBs+iQT2EOnUOuQzxBHZsi5C+Zp/qhNwPgvBZD9VNJBPx/u+Ur3ryqQjQ6uFsXF+xyFFZE3ASJcEojJlbJ1xrI99nldz0navrifbdN9rzlv+m7yT9VFkzTjKMru+nBQjK2xOfRxl+lwD4s/nNMfRmBhH9zFtcH9sl8quBFMb4c8gd5IF5AFBzzxmrqBSSm7IxaCxouNZ3/JxvkdGBKDNl+vso88DPSbhpEQEycQPcjoGKgsl+BvRcZF9LkSkSOgcj5HLcIou57M53X3mfjAOhWGzcm3UiCtf71wY+WEwP7IsUurGTnAhIzPMybdBeRHJ4CSUphiA2ZAqxiPvB5mJqH+VpDidLNQ5CMqZVXLnnsx/31IfmDfX22w5GAQy53dcT5+XDEX9ZdwHGZA63J/r66ucfe+7DWTXOBrvUV/jOHSGXwaVjVCas5hKeWecYIfMGCfXMmweGUCLjBg9uktf9W4qdyoJysTZu3lYbyPQGYRSC9M4L32lg67XMWwJ5zksYGEDEQRzgYiqcHBWAkjVhubLZ+PoKhuF9DRlIL8QCNfcJUu+20fXsk5mHR0Gsi9RQRYEHv7ebrvtlic0RgH74jddQ5tdlNlEHpvz2eeV56gO4+J38u82oTQuOYM0Si4YY/4OiUKs83eQMefme2Vg64ublVj9hvGsj4dEAKLqPMYvJ4uc0zya7+aes+7fAtX6gk7yh2hov3MOdlJvurUQCGxGttnmqWte/L6X3276RH/ne2p+NgzG0b20jaNKQx5HQa9xVKE1jvW+z7wuo69cOs8gfRn0GocM59Yx90meBkGVL7fS9WkZGBUSAeTDnLfpUUaWhWHHjYqBXlaUkm+e0e8iq6IS/S2iXxcKFMMF9xGAjGzACRMHQ+CyUE0a7hGJ0icpVW1SEDflA0qRHWgfZKUbVflGBUOpJ0mUKAq3CMx8MVhI1CjCqrRoezBRqf4exrQvCeuCuRNsGDfKyqgpySLBlC/LU/0YY6bnUMRbP6YP8rHZKPeBa5kvuC732dfZzkaOtDcgbl2N8IOAaDLqo0TmyFRuGdGTZGeMcY1lJrh95pGTkT1SSiL3WgJkW5UnyTGih+D0kWVjJRM7bv8a+9fVW+8+9M+5Jw512NhaVEEfXLf7y2M51/YQUZGh5VjawAGyfRaitOmi95RdEYZB15bn0vF97yH3vIMHTuSWoVGREyZd8sR3uc8m6ewDAaxWtXow5HfYuq57lbW0OA75REbInQVldYIFMuvOhUjWt/pClrQ0uBcta+4PXL8yPX+l5Fonvj7jz2Xd2NV6OVkVTeIg6y/Sp+3CPfADjlVm972cCctwbL7XNuSqn2t1XBOuy2euk970lQ0wjh4/bGwEmUid1raucXQPbePouoxjn8BadpZdlY0dFWRFANG3tY7+C/yNsXkY9j293YLKnA3PXGyuQBe9hgWodX0bdNyoGMi+ZOkIt5uXDehysnqmmmU2wkII24xDF0wM4c1liLrATRqIKSIlepcR0s9CKTkuhLVeapkGyFx7vCInwTAxaAiqOXIfhLbv2CO9yosiaxnV3CM8jvFuIkf2nKHygRYPmcx6dJuz55RT6QBZdUzfbdIyKEY2fNOIrBOjYpzv0Fe9zHq2Rn357qikgPE2dyJppcRR566ObOD6ziNyarWzRXt0llGnr8qnyIBMa58xJPNKs7KX47xySbcNCERuKRJcDiKrjLwqhzHldBw/Toa6DxAaPaBtcuDFiXOUsrdtn+v961P9yuOSdbQPcs8ugtGH4Hch/2bX3LB3ue1p1BcC3SRq+Xe67tP9KNM6DsnKGcH6/bHvegOdW9WiPv96wvkl52D/s67Khqq0OR8fVg8WtSCxv/SSnc8EF8xxPdPvd2UcybPzu05zrBSdyWeG7/i7i5TUWyFkFptjYn6957yudxSb0RxHemMc66Quj6NjtATUx9h38jjqe+1j86x0z72wo77aZGUQBAyqNcZYEqkeYDRhvgS4bB27b05H+a0+ME9ew+xy3Q+P6wNaUZ20E55EUClJeuLKRY2nJmRUBKPcdNNNy4qErPBkgwc/+MFlJUzpKSt9UClYWZHUshKqcs899yyrQZ/5ZPI46aST0tM3PE2pihrSe56s4HoqAU5PR6ocYnq/DyqymJ7KVCn7RJ5gZWw8AckTcCqBXv6kCk8HqiL8sjJE5dFHH93rqSnuq4pOy5e+9KXpqReVQUnvu//Xve51rU9ZGgUV6SwrA1E+5CEPKXfdddc0t01ZqhQ5HbPJJpuk33TMOL/riRgVCS733Xff3vJz3HHHpe8ddthhY72MWV3uB+HJT35yWUW76UlNlULPvNuNKlJOT/GpCP/AJ4J0oSKOY736XFsTp5xySrneeusl/XXdfcekDTvttFMap6VLlw49j6fkLVmyJD11jhy/6U1vSk8NOuSQQ8otttgiPTVn55137rRfdbhvx5H9cV6Vs+wcuyoYLitimOS8IhsDny7jKWYVSUj2w/ecN4NOk5/KCae5yrjkkkuW/3ZFjFuf6NSF+tw3X695zWvKgw8+OOlj2+defUCnyXFFwle4n0F45StfmeSA/6mI1sy7o8NY3eEOd0h+qgqoZt79/+DD2uazz4udac55RY7K2972tknfzUUXquAlPaFs3XXXLX/961+vcB5PdyID5LcioTPvXo099tgjjeWOO+6YroGOmAf6UpGu9NS7KkhbYW6MO/2sgp80Br7TJYOeakhW2eW6/+Ybmt9597vfnZ5gx4a22VxjSzcr4tI6937L/VcBchqPcXDmmWeWFYlM56nI+grjeMIJJ6QnZBrH5vnJJH+xww47lOeff/7ycRwE585yP+prVBx00EHJ/t/udrdLT5lsylmG9z3N0pzhLFXgvoLdNC9ksgp+VzhH3V796U9/Styn6zfAearAKf2GMe/CkUcemWSXLaZ7c4VOiixTqjQsE6AFoB6J1aF0LgOgObwemUjFi/CUOKrfmXm3G8p2+nAcO6w/tg2+J0Pouvv8XoboRRnL1lkyDDkaFbXlxV0iMBvXGos+6BtNyCTKuFQCMvPOcLgGW3GIou0nqWk+R67KhTKWjrHYZFgJ2FjZx9Y9269V5JnnUA9QfhhEhuv0u33nFETyIiyrFLVYyMTUS2Yg++oYzeH5mHFKGKJo19gsAw2CrBy5cV/jvMh+37GQxQLf6TPnWY6cf5wI1RiM8xrnt8hKZfzS2Hc98KAvtLK45z6LcdilyhGkMrFFVkr+laFOGUnb11hQ0deWuG/ySvfHebEVXWOnv5E9lMUhB133JWtGv92DJ1NpY8hZtcpZpMVVenErR5tkF2TM9O3SWbJlKx4rn9mXPmiTgfxyP23v1199oLeYTLimPrLP7vA/xmFYJnoYVHX8pmtoG3dZw7b57POSxWvOuWwiuRx2r+7PfKmINbPTFtbQp2b5l+3VkmFclLXZbguqtDGQD9C/zA/U50YLiu8q5RtLcqRySiYtsNpnn32W+ziy6ljZvPq42x1ABcN1ZZBl82qM6WET7DgfRYbpdfOY/F4zc2j+LWB1fcPg3vM45kpeRv2+6+PI99lr1b2opvBJ2mGcq+7zmuijD12vUZGvXWbd9TXlLEMF6YgjjkiywGaoTGebJ3N82GGHpbnT5lcFN+l997nLLrukapisu/3Z7VChItsFY2xs8lqTLmRZGHbcqOgcQf0tboyyIY/NH3Ux9lyzV6dm3npZF5QaOByD1cc4cXYmhtKO05uk9G0bBEZbQ3UfAsG42+JDyrxZmgarKQkAwXb+upIOQv7tQddgQj1wwNY+9nxjfIaB4uqv0pvie4SyPk76PPOqYMcgU20GBLxv2xulAw5a+YgTRHLttUfAjUfduH/mM59JjwF13WSjzxhnIup45J9cNB2G3zfuyGbXMX2A+Lsv49BXfvSKKdE0F071fY0iq/atNRZ5ccQw1Me3z1gvJLLjI5ODDGsfmEfnyIHOICDHDC19oMcIgp4qTldJUN+qvrZxgp+5grlDANgP19RWznO9thRCNOktp8MmsYcZenKNCaerbSnroHNzWM7BSdEj89HXXs0HcgBjbl3nMGiZ4EjzPA4qgQ4DfXMedmGuS6NtILuIcV7Y04VMRpDx5v3lXtbmZ3qMkTi99tp1+FdtauxlLmWTkfp9KhEjZvwYUgjaTMgOWUF2+QJE1DXn33b+HCiZC36Kb6nbO8Gh38pj3AT91f9O//jbpkxq/UOA8jEZHnDDnws4M8HqQn2s6oQUjLH7bn7mWvI4shvum89kt8YhlnMNpFEizXh19au6Zz7ZuhW2Vwufdpb6sXiLVg7+hv3IZFSAYu9c5xeQsDkCZefsAlnDU7RodiUvgbyZU2M76LhRscKsEDbRno1zNWq7cBPnX9lF0Z7M15FHHplYuZ5JGVEZvWbka8EDBZJR63LMnIrfo0gG1YBTdIJk4PoQuAx9jkuXLk0E2vV3RUfOTShFUTIxFqI0o1CQraCAWemtsDTZSLWMRpOAE3bXzHHkjKRIFxn0t8/q18ToUH4OSpRLodqA1DqnDY5dr+s2bgxYnRCYO43khMP7rtGWNqJwgUfTkBBy0Za+MOc2lwyDl/5VvaWa6euk0RxpMCcbZGGQIc7Ika4FYDKmbUqXCa1jBAhtx/QBWfPdQb2DTTiWsRr3JbvS17iJ/MmT6+waO86DrplzxoRO0AMPx/Ae4zstJIQD4yjokGtzrZybqN3ChT7y0YR7E+kj9n0IivGUecg9d+wQGcjkHkma7cMtxoWMvflCDOg7/Xd9xoyNYhf02apO0W2BszGkg1ZeIzx1HUf09CJyGuQujw+SgbQjKfSfno2zar4LcxEo0W2ygYR22WZ+gq1CtI2JrJs59S+dyJWTUcFH0SH6msnXJGHcET0kSzaqbfy8x/eRdwsS67LOvvNT5r6Z3XRO96IK5l5kw3wfUc02yTiREeOJhMiyI2Z+k01nV8gLMuFcfovflfW3/sQ1++08T+Qu77fqmLouyZrSt7xlUhs8wIHt45/Nf7YLEiTmWlVWwiuPgeu2iIlv5KPyWpY21MexSUiNo++SIUF02zjiKX7XOCKFuUd3oaC/ll3AY9jXLO/4A5vBziKafPuOO+6Y5pYtYDP4zpz4AeOYxwWBZCPZS2Nm3JFO947/WPPi70F20tyxT/p2B+mR4/wO+cr8aS6wxl72eJkBwVYSJySZLJpgpM1AcZgGCgFzswiaybadRTObYhAYHJNvwUXbRSOpMrPOl4WKsSX4jJMyR12JBwG5FImYIIPZtnsB5ZO5oDSunwITTIRQ9F7f/kV2ESlH+kyMCeZ8kDQER5ReF2qk0L24JwaXkBk7v0HAOBRZw6wwlM+5jLHxlf3JLQh1yKBQWOdHAgifa/HbFgbkyIWDV8oxBs5Nac2Pvxlrc1AXME8oyStKkWoGKr/87X2N2gQ9jyP5QG6NI4LAkA4TRgSaQ/aoNSs12yIt40UGZJNkOtuOGQYBlfuncPkpZNMGOoLoyyAoU9eNZwZyowxszIydsTaX5JsRI1/GyDnq+rYQYDDpCNnk0NwP2UPMyBEnNCo5YAfIu/Gh/21jNAhKTypB7JLfXsgx4uBVKsg2Z0Gu6RY9FvSbS3aVjoL7JbvuvS2r7N68ZFKUNWVRjA+5R1LsdUtW2BP2gU0bdfyaEJxycs1FPqOCPgqAESlbC9GFJsg45+s3+R+O0f2wwfQCAWwG0H1gGzz+hHNnt5vjOgnQB/5ScNG2GwW7ryxrflwX8phl1TjQAcRwu+22S7KQwR+SGUSGnrkXu3fwST4zPsgnQsrH0U2/z46z9/yEYElVCIEzvkij6zXOiIaWGnrMb5kHwSi5s+gYKa6Pn980X3yjRXj1a81QHcADchCOSJtP2VMypfrBVmRfYhzcA99JX4whUtzma8gIe0m3VP3q4+iejKNKnR0bkLoM494cRw/BQbBGla+5ApnIiSL2AS9xX/41Z97zct1IrXsQCJgX7U5tPgGnMZcy5/iHyqvEGNnDCbzIABtknNiRLv+r8orHaD90XNs4mQ/nNufksj7ms8VqFSlZHvYpoeVemTa0RbWEuE5oMgy8PlA37iZlz5pAfjgnBLMJyk1I+xpIBprSMUxKs3owTUIdfgcJMKBgsN2TIWD8ZTKyIiIKhL3tnkWJjENdad0LBXO89wmN8+aXv5GMfD9IiIiQ8fCYOEbF7zeBHDIgrt05vPwGB1JXcOn9nNFtghCLvutCaBwQitr0XwMcfl15s2J/9KMfTcoh+9Mc4yYol+DnZS97WTJ0TWUCRlVEb+utpjHsC8bP6lzzzvjVS0rTAnMoAOCM8lOHmvAZOa7PN9RlCemfBjLOkQmI2nREL5vsT5fh6wLnopzFkSFjsyFIcwHjzcnr55OpYXwFaX2y9wgDctalY3l+OR26T9cY+UHyj+jqrZdUQPqMv+2ytD/Z7o9ccBaIqoB9tuOn5Qdp4sjbCOYoMK/sswqVTGvzPo0vPe7yP00b3QfsoW3UOGjVJGPcZoOaYOuQKwSOjWPzJUGGBecZnD8iIfiQNW/6P/ote+jcgpO6PhsHhIWMCbzqAQddY+f5Te+z0fXr4tvICL9hnPgJeuhzvp2f9B6SkrNwkgW5X1Wwb5wlOPJ7jhOsGLu2zJsH+Bx88MEpcMUF2o7BB4wnncjJEDba8X6vmZTi81SgBHxafMxhW+LK9eEXPmsbRxVRRLmZvW6OY57fUe3VXIJM8Jeuuwvmy7ySG7pgvtzzIJlW2dl5551Ta58MtoCBXLITOYGmlQrpFRC22TXjJXMrkSiRh6y2/SaZEbSwTbvuumuStTlDJTQTg5WCFflIK/SqiZh5d7LYbrvtysoI9FoJPw2oCGtZKWJa1blYsM0226RVyn3GuCLRaSV7ZVRm3rkmKtI89Jhh2Hvvvcvb3/72aVX6bM4zadhBwKrcE088cfnOC4GrURnEcquttko7iVTOauDK1PkA+barwJIlS5JdqQxwWTnXpK8f/OAHk2zPNypCkFbashts6re//e0kT3nnBK+KHJVnn332nIyfFdNWetPR2eKkk05KK7MPPfTQtLJ4PvDjH/847QRQkfu0Mn0YjJmdbSpnXm677bZpN5OK6JSbbbZZuddee6VdCfqMa0W4y8ppl5tvvnnnTh6XXnppmq+281XkutOOOd7n5LPrWvy+Y+qfkxfz2GZ32o73XkWchtrT0047rawCmrQbzbAx5ucqEppWp1eB3EBe4HcrMlVWBHegrTSOPp/EOK4MIPsbb7xx2kUE7HpEJ9gQ921O7DBRBWjp8zb85je/KStCX+6+++4Dd0aqCHDa4WLZsmVzzsFGT2GNAL1TojK9mdWFz7w7OSgvyIKINgf1XkwTlPnr5fxph9KM7J8otM8Yy8YM6wMSGQ47ZhBkr2RrZOJkgcY9z3xAJCsaFvFXhnLm3QCIylUbRPgys30yYJOETJy2J/1cHh2r3UlWU0lOuVqbkyzRfCJnjtjTytGkqoRMpKxMZc9Ti5PKUs6azRYWedUrQrOBsrMypKpCXugxaci6qf6Zw3rWrQvKnOZV/6LKkUU+5l4FTLbfvLM3w2C8ZK9U3FTpZBabkNGS8WybJ1nALjvmeJ/zGV1z7PcdU/9cRs4YtNnttuO9J/s5zJ7yBWREO0DeyaMLKhN6yJWc29aK1GHcXMOg3TPAOLqnSYzjygD3aE7YiIq4J/vF93jPCz9Thakv5mzCMcZZq1FblRxU5lVRZe1VTuaa06zQszrXcPPKMBbw2B6CoE5KKExEFdklw6T8YmCnHco1+v70gCixjFLeWgiYS+VHPVD1/tuFBueivKSU4dqmeRwZf4YVEVKS0Qow7fM+H6C/ZAsB08OnxLWQDgQh0UPNhiErAmCLtRhhJUolRG0/+kyVuuZrDjkK7UlIPWfOEetL057jpb+Nbo5aLu+C8yC+c3EuxMz5+AOEZbZbnA2D+UEu9WdqSRtmr8gedygg1+OoBO8alUbZPq1aWnS0gbT1oTZhXsyReck9hSsjjINeWYucza/+0tkSFS1q2guU7yVzFoM/n1awGVoqtHto3TJH5kzfKw7Czmqh6OJnSv9ss2SQV1fQp61Ff76gXsA8LMgZFRMlq26cUcLks8KKlCYBEazsGuInS7cYCMDHPvaxlG3oY0inAfqg9Lpy3gzxNIyxniMLTPTUyZ5M+zjSCYs8VAD0kCGs+o8WkphNA2Rl9LwxdHrY+vYGTgqMuF06EMPcs8cBM9TkXgZBtg1xYZjn63r9vkyWfkZESkaEDJEpBEofex8i1RdzLZdIjWy0TI1+xUklMGSeLUTjqC1erS+86YLMkAUuFgvJVssC003zrpeeM1ZVcs18mYzVILBFqih6Bvm9he6JnCQQIGQfYeXT/D0b/8A2Ikmqs2RmMfjzaYUMtopjthnkWhBANtkK/e3ku41cCtL0DUsmeERwc61Ohh5ne7Yjs9aOTCIwm7gEMBJKBFa+DisRzAbS2wz1tJeB62C4RtnxYKFBYDkYAj8tY4xUKClaZLJYom/OToDCIGtdmZROLCawD4gFwzkNDl2GkrwjLmSsXsbNZJBzthCH7ZlPyFzJhFiAyt75m/wrv1n4sNBEfxDoqCqb5AIyMqmxszWRhSSIfN/A2o4iyqMWrfkuwpohAZLttCCFE+8DxI2DzwuLVlbQWTJp7GTs+o5PF+geUjWb9rDA1TB+FtnhYWwGkpr/ZjMGBbcCOLsPaIshx11zYUEhnTNng9oJZoN5CVeUpThnq9EYhEmAUCv/TypzOwlYMbdYssAgeyN7OS1jLJrT/6avbL62pJkryMx4xvQRRxyRDMKqDOVVpNBuEJNsFRoF9BKxci3NrIM+7CxrAiWkNdAfyLXdQWThkP25Hj8EWH8pZ+zVN4iVDdLSYa7Ned2BCwCcx7wrUfe9Zudwr8gXOV+Z+9S1srHFHlAhEHHP40LbjfL/YknkLAaMalfJOM6m0tV8aEMd2mb4YVuedW1pNReYaBtABqatoZrg+XcSN8OYyMwsJsIiPe+6p8E594Ho2VxOyxgr9elRlp0294tlHIHiZ52QHZvmbNikIeOkF1RUPi3OyfwoZSqz24oFeclyL7OmTxppEYjL3i2mIHmhYazIvpYG/851G4xKhUy4DO4ofbF0UMmZLFpYhlTn77I1H/jAB1LmUEuIxEjfUqdzkh/ylB9PujLC+Blv46L9z/yOO6/sQG65CSwcVBcEfFpYunyULLpWKZn1Sfbvr7DP6qRB4RGexUQqAtMLkTvxXczGn1NdTAHLJMDYCWCnzTEho+anucDI027sP6pKpB+x62EXgcGY5LyPq1d8lH0uBb9152xhikqIQGXfffdNe3+Osu8sOyXjy1at7Lo+rfocGB199Cj7YXM+SdmeV2kSUa/KTjkwt6Aciz1LEcHb1RmZaXRsMkTaEurXhqDaDgmRtY2VcmWd1AT6Y5LzPq5e8VGqNc05tYOBPma9ezK2ssGjwLUMc/orC6ZVnwOjo48eZT88adkOiQoEAoGe+PznP5+esmQxp8c7IjarAgFZlWEvWzvNKHHmJ3px0IFAYP4QZDUQCAR6wN6mhxxySOqzfMMb3pCybJFVXbnh8aR56x6PxV4M2+MFAisjgqwGAoHAENhf08bYehn33HPPtJggFlWt3LBy/8ADD0yrnXfbbbe056cFppFJDwTmH0FWA4FAYABsT+VJSBbIeKpV3tPXXqGeDDPf+6wGJg+Z1A9/+MPFqaeeWuy0005pcZVARd+qp1JZiBUIBOYPQVYDgUCgA1bDHnTQQWnDaz2qttfKGdUvfelLabP3IC4rF6xs/vSnP50eVGHVv+ehW/kvo+oxu1/+8pdX6g3+A4FpRJDVQCAQaAHSYpsqZWCPGvSs+LxFlc+OP/74tE1PlIVXLixbtqxYunRpsWTJkrSPbn0/VcGJh3iY/0AgMH+Y131WA4FAYLFABu2Nb3xjKvnbCD4TVU92kU21QvzQQw9NWxnlzwKLGx6tu8suu6QAxQMhMlHlJgUm3/3ud9OTel7+8pdP7LGSgUDgmgiyGggEAg3oRVUClkmzZ2Q9e8pk5o2wlYUR2dhXcvHDgiqP/LWPrj7k5vZU5hxh9QjKrbfeeuS9VgOBwPgIshoIBAINyLBZVGVBTRc8DtJqcY/TDCx+KO/Lqtr5ocstClre/OY3pwBlZX1saiAwjQiyGggEAg0gLmefffbAlf72WL3LXe4Se62uJJA1/d3vfpcW1XUBWd1ggw1SVjV6lQOB+UOQ1UAgEAgEAoHA1CIarQKBQCAQCAQCU4sgq4FAIBAIBAKBqUWQ1UAgEAgEAoHA1CLIaiAQCAQCgUBgahFkNRAIBAKBQCAwtQiyGggEAoFAIBCYWgRZDQQCgUAgEAhMLYKsBgKBQCAQCASmFkFWA4FAIBAIBAJTiyCrgUAgEAgEAoGpRZDVQCAQCAQCgcDUIshqIBAIBAKBQGBqEWQ1EAgEAoFAIDC1CLIaCAQCgUAgEJhaBFkNBAKBQCAQCEwpiuL/AeSGRZ5ShPNUAAAAAElFTkSuQmCC)\n",
        "\n",
        "Where Dw is\n",
        "\n",
        "![contrastive_loss_function1.png](data:image/png;base64,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)"
      ]
    },
    {
      "cell_type": "code",
      "metadata": {
        "id": "eEqa3WgAuzqF",
        "colab_type": "code",
        "colab": {}
      },
      "source": [
        "def contrastive_loss_function(x0, x1, y, margin=1.0):\n",
        " # euclidean distance\n",
        " diff = x0 - x1\n",
        " dist_sq = torch.sum(torch.pow(diff, 2), 1)\n",
        " dist = torch.sqrt(dist_sq)\n",
        " mdist = margin - dist\n",
        " dist = torch.clamp(mdist, min=0.0)\n",
        " loss = y * dist_sq + (1 - y) * torch.pow(dist, 2)\n",
        " loss = torch.sum(loss) / 2.0 / x0.size()[0]\n",
        " return loss"
      ],
      "execution_count": 11,
      "outputs": []
    },
    {
      "cell_type": "markdown",
      "metadata": {
        "id": "ClK5GwDyzCTc",
        "colab_type": "text"
      },
      "source": [
        "#siamse network"
      ]
    },
    {
      "cell_type": "code",
      "metadata": {
        "id": "dklL-AcYtJZC",
        "colab_type": "code",
        "colab": {}
      },
      "source": [
        "class SiameseNetwork(nn.Module):\n",
        "  def __init__(self,flag_kaf=False):\n",
        "\n",
        "    super(SiameseNetwork, self).__init__()\n",
        "    self.cnn1 = nn.Sequential(\n",
        "    nn.Conv2d(1, 20, kernel_size=5),\n",
        "    nn.MaxPool2d(2, stride=2),\n",
        "    nn.Conv2d(20, 50, kernel_size=5),\n",
        "    nn.MaxPool2d(2, stride=2))\n",
        "    self.fc1 = nn.Sequential(\n",
        "    nn.Linear(50 * 4 * 4, 500),\n",
        "    nn.ReLU(inplace=True),\n",
        "    nn.Linear(500,10),\n",
        "    nn.Linear(10, 2))\n",
        "  def forward_once(self, x):\n",
        "\n",
        "    output = self.cnn1(x)\n",
        "    output = output.view(output.size()[0], -1)\n",
        "    output = self.fc1(output)\n",
        "    return output\n",
        "\n",
        "  def forward(self, input1, input2):\n",
        "    output1 = self.forward_once(input1)\n",
        "    output2 = self.forward_once(input2)\n",
        "    return output1, output2\n"
      ],
      "execution_count": 5,
      "outputs": []
    },
    {
      "cell_type": "markdown",
      "metadata": {
        "id": "LWzroME8zGDK",
        "colab_type": "text"
      },
      "source": [
        "#dataset calling\n",
        "Reduce the MNIST dataset and choose 2000 the random points "
      ]
    },
    {
      "cell_type": "code",
      "metadata": {
        "id": "Oj8wMVcOtve1",
        "colab_type": "code",
        "colab": {
          "base_uri": "https://localhost:8080/",
          "height": 467,
          "referenced_widgets": [
            "9ff6aaaba8284e39b63c172fea74fc75",
            "0e0ef138f1b74082b8867013ddb8c2a1",
            "b479751df938450c91bc05f97e2a3960",
            "b55accc918534b25b245fdd394d0b76f",
            "37c525817e8a4a0b9cc6438834dc3780",
            "3d12890907e64672b4ecfb0d18461b39",
            "f75899716d80421bad482e3ff5c2a339",
            "1438f460f79f4c1c8a2298596bfd880c",
            "83ee36ed488643a9a4c36a1884daf3ea",
            "66ae95d468624cceae6f350e9e6bec62",
            "9b207c0e93bc491ca8b9e9b8bba7ef0f",
            "43254d848e7146d58c53cd15a27ea3f6",
            "f23d6bdc036042efa690332ecf703e06",
            "39bc1c82ce654f48b339d78650b34716",
            "43e8ded18e7d4386b7a32000e0472880",
            "35f90112c0b1434db0916f9b4f9855a0",
            "17cc415f58a34158a08d6100c80f50ae",
            "c52f0736424b49729a35529b28852402",
            "e60be01c347b4023b8acbb1741ebb5ad",
            "921bb2f38a804916aec2e084bef15c12",
            "1e94880f5c6f479faae927fa8eb8c60d",
            "0fad865d57d14bfda86568c8f1ea715b",
            "27ca3f4126c6465a9bdefadcf87dbc74",
            "8ffed309d3ba4ceb8bcd165849fb400c",
            "78a4ce1f41ab477b98f7ec89cbe742d5",
            "9f2bfd95131c455c8942438b9a46077e",
            "d0ee6f9c121c43f7bd94214359d69149",
            "1376b72db78041da909fb2dd25a51e9f",
            "9205f0f8b0084490987b92f69e6e6d63",
            "f02b6943ad4345f8af7364ed090ad483",
            "13531b16ff944b40b3c1f1b9afcc403b",
            "06167ba83236451aa03aa6a8beb852fd"
          ]
        },
        "outputId": "c1cab2dd-b6f5-43ca-bb0a-8b1c016db1e0"
      },
      "source": [
        "batchsize=128\n",
        "train = dsets.MNIST(root='../data/',train=True,download=True)\n",
        "test =  dsets.MNIST(root='../data/',train=False,transform=transforms.Compose([transforms.ToTensor(),]))\n",
        "indices= np.random.choice(len(train.train_labels.numpy()), 2000,\n",
        "replace=False)\n",
        "indices_test= np.random.choice(len(test.test_labels.numpy()), 100,\n",
        "replace=False)"
      ],
      "execution_count": 7,
      "outputs": [
        {
          "output_type": "stream",
          "text": [
            "Downloading http://yann.lecun.com/exdb/mnist/train-images-idx3-ubyte.gz to ../data/MNIST/raw/train-images-idx3-ubyte.gz\n"
          ],
          "name": "stdout"
        },
        {
          "output_type": "display_data",
          "data": {
            "application/vnd.jupyter.widget-view+json": {
              "model_id": "9ff6aaaba8284e39b63c172fea74fc75",
              "version_minor": 0,
              "version_major": 2
            },
            "text/plain": [
              "HBox(children=(FloatProgress(value=1.0, bar_style='info', max=1.0), HTML(value='')))"
            ]
          },
          "metadata": {
            "tags": []
          }
        },
        {
          "output_type": "stream",
          "text": [
            "Extracting ../data/MNIST/raw/train-images-idx3-ubyte.gz to ../data/MNIST/raw\n",
            "Downloading http://yann.lecun.com/exdb/mnist/train-labels-idx1-ubyte.gz to ../data/MNIST/raw/train-labels-idx1-ubyte.gz\n"
          ],
          "name": "stdout"
        },
        {
          "output_type": "display_data",
          "data": {
            "application/vnd.jupyter.widget-view+json": {
              "model_id": "83ee36ed488643a9a4c36a1884daf3ea",
              "version_minor": 0,
              "version_major": 2
            },
            "text/plain": [
              "HBox(children=(FloatProgress(value=1.0, bar_style='info', max=1.0), HTML(value='')))"
            ]
          },
          "metadata": {
            "tags": []
          }
        },
        {
          "output_type": "stream",
          "text": [
            "Extracting ../data/MNIST/raw/train-labels-idx1-ubyte.gz to ../data/MNIST/raw\n",
            "Downloading http://yann.lecun.com/exdb/mnist/t10k-images-idx3-ubyte.gz to ../data/MNIST/raw/t10k-images-idx3-ubyte.gz\n"
          ],
          "name": "stdout"
        },
        {
          "output_type": "display_data",
          "data": {
            "application/vnd.jupyter.widget-view+json": {
              "model_id": "17cc415f58a34158a08d6100c80f50ae",
              "version_minor": 0,
              "version_major": 2
            },
            "text/plain": [
              "HBox(children=(FloatProgress(value=1.0, bar_style='info', max=1.0), HTML(value='')))"
            ]
          },
          "metadata": {
            "tags": []
          }
        },
        {
          "output_type": "stream",
          "text": [
            "Extracting ../data/MNIST/raw/t10k-images-idx3-ubyte.gz to ../data/MNIST/raw\n",
            "Downloading http://yann.lecun.com/exdb/mnist/t10k-labels-idx1-ubyte.gz to ../data/MNIST/raw/t10k-labels-idx1-ubyte.gz\n",
            "\n",
            "\n"
          ],
          "name": "stdout"
        },
        {
          "output_type": "display_data",
          "data": {
            "application/vnd.jupyter.widget-view+json": {
              "model_id": "78a4ce1f41ab477b98f7ec89cbe742d5",
              "version_minor": 0,
              "version_major": 2
            },
            "text/plain": [
              "HBox(children=(FloatProgress(value=1.0, bar_style='info', max=1.0), HTML(value='')))"
            ]
          },
          "metadata": {
            "tags": []
          }
        },
        {
          "output_type": "stream",
          "text": [
            "Extracting ../data/MNIST/raw/t10k-labels-idx1-ubyte.gz to ../data/MNIST/raw\n",
            "Processing...\n"
          ],
          "name": "stdout"
        },
        {
          "output_type": "stream",
          "text": [
            "/usr/local/lib/python3.6/dist-packages/torchvision/datasets/mnist.py:469: UserWarning: The given NumPy array is not writeable, and PyTorch does not support non-writeable tensors. This means you can write to the underlying (supposedly non-writeable) NumPy array using the tensor. You may want to copy the array to protect its data or make it writeable before converting it to a tensor. This type of warning will be suppressed for the rest of this program. (Triggered internally at  /pytorch/torch/csrc/utils/tensor_numpy.cpp:141.)\n",
            "  return torch.from_numpy(parsed.astype(m[2], copy=False)).view(*s)\n"
          ],
          "name": "stderr"
        },
        {
          "output_type": "stream",
          "text": [
            "Done!\n"
          ],
          "name": "stdout"
        },
        {
          "output_type": "stream",
          "text": [
            "/usr/local/lib/python3.6/dist-packages/torchvision/datasets/mnist.py:45: UserWarning: train_labels has been renamed targets\n",
            "  warnings.warn(\"train_labels has been renamed targets\")\n",
            "/usr/local/lib/python3.6/dist-packages/torchvision/datasets/mnist.py:50: UserWarning: test_labels has been renamed targets\n",
            "  warnings.warn(\"test_labels has been renamed targets\")\n"
          ],
          "name": "stderr"
        }
      ]
    },
    {
      "cell_type": "markdown",
      "metadata": {
        "id": "yejREfaZzeSd",
        "colab_type": "text"
      },
      "source": [
        "#teaining and test set iterators"
      ]
    },
    {
      "cell_type": "markdown",
      "metadata": {
        "id": "NZ4GIoQFziQt",
        "colab_type": "text"
      },
      "source": [
        "used contrastive_loss_function as a criterion"
      ]
    },
    {
      "cell_type": "code",
      "metadata": {
        "id": "-1ZYFOyNtzbc",
        "colab_type": "code",
        "colab": {
          "base_uri": "https://localhost:8080/",
          "height": 151
        },
        "outputId": "96de032e-678d-484e-dfd9-7531694050bd"
      },
      "source": [
        "train_iter =create_iterator(train.train_data.numpy()[indices],train.train_labels.numpy()[indices],batchsize)\n",
        "test_iter =create_iterator(test.test_data.numpy()[indices_test],test.test_labels.numpy()[indices_test],batchsize)\n",
        "\n",
        "# call model\n",
        "model = SiameseNetwork()\n",
        "learning_rate = 0.01 # learning rate for optimization\n",
        "\n",
        "momentum = 0.9 # momentum\n",
        "# Loss and Optimizer\n",
        "criterion = contrastive_loss_function # we will use contrastive loss function as defined above\n",
        "optimizer = torch.optim.SGD(model.parameters(),lr=learning_rate,momentum=momentum)\n",
        "# creating a train loader, and a test loader.\n",
        "train_loader =torch.utils.data.DataLoader(train_iter,batch_size=batchsize,shuffle=True)\n",
        "test_loader = torch.utils.data.DataLoader(test,batch_size=batchsize,shuffle=True)\n"
      ],
      "execution_count": 12,
      "outputs": [
        {
          "output_type": "stream",
          "text": [
            "/usr/local/lib/python3.6/dist-packages/torchvision/datasets/mnist.py:55: UserWarning: train_data has been renamed data\n",
            "  warnings.warn(\"train_data has been renamed data\")\n",
            "/usr/local/lib/python3.6/dist-packages/torchvision/datasets/mnist.py:45: UserWarning: train_labels has been renamed targets\n",
            "  warnings.warn(\"train_labels has been renamed targets\")\n",
            "/usr/local/lib/python3.6/dist-packages/torchvision/datasets/mnist.py:60: UserWarning: test_data has been renamed data\n",
            "  warnings.warn(\"test_data has been renamed data\")\n",
            "/usr/local/lib/python3.6/dist-packages/torchvision/datasets/mnist.py:50: UserWarning: test_labels has been renamed targets\n",
            "  warnings.warn(\"test_labels has been renamed targets\")\n"
          ],
          "name": "stderr"
        }
      ]
    },
    {
      "cell_type": "markdown",
      "metadata": {
        "id": "aMYpIj_mzqP-",
        "colab_type": "text"
      },
      "source": [
        "#train"
      ]
    },
    {
      "cell_type": "code",
      "metadata": {
        "id": "pHxtfIKbudVx",
        "colab_type": "code",
        "colab": {
          "base_uri": "https://localhost:8080/",
          "height": 1000
        },
        "outputId": "106bd7b6-63fa-4dd2-cad2-28ed454f15ce"
      },
      "source": [
        "train_loss = []\n",
        "epochs =100\n",
        "for epoch in range(epochs):\n",
        " print('Train Epoch:'+str(epoch)+\"------------------>\")\n",
        " for batch_idx, (x0, x1, labels) in enumerate(train_loader):\n",
        "  labels = labels.float()\n",
        "  x0, x1, labels = Variable(x0), Variable(x1), Variable(labels)\n",
        "  output1, output2 = model(x0, x1)\n",
        "  loss = criterion(output1, output2, labels)\n",
        "  optimizer.zero_grad()\n",
        "  loss.backward()\n",
        "  optimizer.step()\n",
        "  train_loss.append(loss.item())\n",
        "  if batch_idx % batchsize == 0:\n",
        "    print('Epoch: {} \\tLoss: {:.6f}'.format(epoch,loss.item()))\n"
      ],
      "execution_count": 17,
      "outputs": [
        {
          "output_type": "stream",
          "text": [
            "Train Epoch:0------------------>\n",
            "Epoch: 0 \tLoss: 0.227862\n",
            "Train Epoch:1------------------>\n",
            "Epoch: 1 \tLoss: 0.183963\n",
            "Train Epoch:2------------------>\n",
            "Epoch: 2 \tLoss: 0.111803\n",
            "Train Epoch:3------------------>\n",
            "Epoch: 3 \tLoss: 0.091035\n",
            "Train Epoch:4------------------>\n",
            "Epoch: 4 \tLoss: 0.079111\n",
            "Train Epoch:5------------------>\n",
            "Epoch: 5 \tLoss: 0.076066\n",
            "Train Epoch:6------------------>\n",
            "Epoch: 6 \tLoss: 0.080962\n",
            "Train Epoch:7------------------>\n",
            "Epoch: 7 \tLoss: 0.093462\n",
            "Train Epoch:8------------------>\n",
            "Epoch: 8 \tLoss: 0.077666\n",
            "Train Epoch:9------------------>\n",
            "Epoch: 9 \tLoss: 0.071070\n",
            "Train Epoch:10------------------>\n",
            "Epoch: 10 \tLoss: 0.055629\n",
            "Train Epoch:11------------------>\n",
            "Epoch: 11 \tLoss: 0.049707\n",
            "Train Epoch:12------------------>\n",
            "Epoch: 12 \tLoss: 0.052704\n",
            "Train Epoch:13------------------>\n",
            "Epoch: 13 \tLoss: 0.065954\n",
            "Train Epoch:14------------------>\n",
            "Epoch: 14 \tLoss: 0.050916\n",
            "Train Epoch:15------------------>\n",
            "Epoch: 15 \tLoss: 0.042198\n",
            "Train Epoch:16------------------>\n",
            "Epoch: 16 \tLoss: 0.048550\n",
            "Train Epoch:17------------------>\n",
            "Epoch: 17 \tLoss: 0.047938\n",
            "Train Epoch:18------------------>\n",
            "Epoch: 18 \tLoss: 0.044753\n",
            "Train Epoch:19------------------>\n",
            "Epoch: 19 \tLoss: 0.042939\n",
            "Train Epoch:20------------------>\n",
            "Epoch: 20 \tLoss: 0.033032\n",
            "Train Epoch:21------------------>\n",
            "Epoch: 21 \tLoss: 0.054185\n",
            "Train Epoch:22------------------>\n",
            "Epoch: 22 \tLoss: 0.041777\n",
            "Train Epoch:23------------------>\n",
            "Epoch: 23 \tLoss: 0.038446\n",
            "Train Epoch:24------------------>\n",
            "Epoch: 24 \tLoss: 0.028891\n",
            "Train Epoch:25------------------>\n",
            "Epoch: 25 \tLoss: 0.031219\n",
            "Train Epoch:26------------------>\n",
            "Epoch: 26 \tLoss: 0.030272\n",
            "Train Epoch:27------------------>\n",
            "Epoch: 27 \tLoss: 0.030903\n",
            "Train Epoch:28------------------>\n",
            "Epoch: 28 \tLoss: 0.027958\n",
            "Train Epoch:29------------------>\n",
            "Epoch: 29 \tLoss: 0.022245\n",
            "Train Epoch:30------------------>\n",
            "Epoch: 30 \tLoss: 0.027010\n",
            "Train Epoch:31------------------>\n",
            "Epoch: 31 \tLoss: 0.023675\n",
            "Train Epoch:32------------------>\n",
            "Epoch: 32 \tLoss: 0.023161\n",
            "Train Epoch:33------------------>\n",
            "Epoch: 33 \tLoss: 0.030391\n",
            "Train Epoch:34------------------>\n",
            "Epoch: 34 \tLoss: 0.019665\n",
            "Train Epoch:35------------------>\n",
            "Epoch: 35 \tLoss: 0.019785\n",
            "Train Epoch:36------------------>\n",
            "Epoch: 36 \tLoss: 0.018227\n",
            "Train Epoch:37------------------>\n",
            "Epoch: 37 \tLoss: 0.017737\n",
            "Train Epoch:38------------------>\n",
            "Epoch: 38 \tLoss: 0.014513\n",
            "Train Epoch:39------------------>\n",
            "Epoch: 39 \tLoss: 0.022123\n",
            "Train Epoch:40------------------>\n",
            "Epoch: 40 \tLoss: 0.018632\n",
            "Train Epoch:41------------------>\n",
            "Epoch: 41 \tLoss: 0.018677\n",
            "Train Epoch:42------------------>\n",
            "Epoch: 42 \tLoss: 0.018089\n",
            "Train Epoch:43------------------>\n",
            "Epoch: 43 \tLoss: 0.013292\n",
            "Train Epoch:44------------------>\n",
            "Epoch: 44 \tLoss: 0.019661\n",
            "Train Epoch:45------------------>\n",
            "Epoch: 45 \tLoss: 0.012924\n",
            "Train Epoch:46------------------>\n",
            "Epoch: 46 \tLoss: 0.017240\n",
            "Train Epoch:47------------------>\n",
            "Epoch: 47 \tLoss: 0.012631\n",
            "Train Epoch:48------------------>\n",
            "Epoch: 48 \tLoss: 0.014850\n",
            "Train Epoch:49------------------>\n",
            "Epoch: 49 \tLoss: 0.014820\n",
            "Train Epoch:50------------------>\n",
            "Epoch: 50 \tLoss: 0.009990\n",
            "Train Epoch:51------------------>\n",
            "Epoch: 51 \tLoss: 0.011631\n",
            "Train Epoch:52------------------>\n",
            "Epoch: 52 \tLoss: 0.012726\n",
            "Train Epoch:53------------------>\n",
            "Epoch: 53 \tLoss: 0.013370\n",
            "Train Epoch:54------------------>\n",
            "Epoch: 54 \tLoss: 0.011315\n",
            "Train Epoch:55------------------>\n",
            "Epoch: 55 \tLoss: 0.009504\n",
            "Train Epoch:56------------------>\n",
            "Epoch: 56 \tLoss: 0.009794\n",
            "Train Epoch:57------------------>\n",
            "Epoch: 57 \tLoss: 0.010322\n",
            "Train Epoch:58------------------>\n",
            "Epoch: 58 \tLoss: 0.008413\n",
            "Train Epoch:59------------------>\n",
            "Epoch: 59 \tLoss: 0.008405\n",
            "Train Epoch:60------------------>\n",
            "Epoch: 60 \tLoss: 0.006518\n",
            "Train Epoch:61------------------>\n",
            "Epoch: 61 \tLoss: 0.005873\n",
            "Train Epoch:62------------------>\n",
            "Epoch: 62 \tLoss: 0.006394\n",
            "Train Epoch:63------------------>\n",
            "Epoch: 63 \tLoss: 0.008035\n",
            "Train Epoch:64------------------>\n",
            "Epoch: 64 \tLoss: 0.007016\n",
            "Train Epoch:65------------------>\n",
            "Epoch: 65 \tLoss: 0.007958\n",
            "Train Epoch:66------------------>\n",
            "Epoch: 66 \tLoss: 0.006661\n",
            "Train Epoch:67------------------>\n",
            "Epoch: 67 \tLoss: 0.008165\n",
            "Train Epoch:68------------------>\n",
            "Epoch: 68 \tLoss: 0.005533\n",
            "Train Epoch:69------------------>\n",
            "Epoch: 69 \tLoss: 0.005846\n",
            "Train Epoch:70------------------>\n",
            "Epoch: 70 \tLoss: 0.004628\n",
            "Train Epoch:71------------------>\n",
            "Epoch: 71 \tLoss: 0.005964\n",
            "Train Epoch:72------------------>\n",
            "Epoch: 72 \tLoss: 0.006425\n",
            "Train Epoch:73------------------>\n",
            "Epoch: 73 \tLoss: 0.005606\n",
            "Train Epoch:74------------------>\n",
            "Epoch: 74 \tLoss: 0.003980\n",
            "Train Epoch:75------------------>\n",
            "Epoch: 75 \tLoss: 0.004391\n",
            "Train Epoch:76------------------>\n",
            "Epoch: 76 \tLoss: 0.005092\n",
            "Train Epoch:77------------------>\n",
            "Epoch: 77 \tLoss: 0.003289\n",
            "Train Epoch:78------------------>\n",
            "Epoch: 78 \tLoss: 0.005569\n",
            "Train Epoch:79------------------>\n",
            "Epoch: 79 \tLoss: 0.004409\n",
            "Train Epoch:80------------------>\n",
            "Epoch: 80 \tLoss: 0.004112\n",
            "Train Epoch:81------------------>\n",
            "Epoch: 81 \tLoss: 0.005566\n",
            "Train Epoch:82------------------>\n",
            "Epoch: 82 \tLoss: 0.003533\n",
            "Train Epoch:83------------------>\n",
            "Epoch: 83 \tLoss: 0.004282\n",
            "Train Epoch:84------------------>\n",
            "Epoch: 84 \tLoss: 0.003005\n",
            "Train Epoch:85------------------>\n",
            "Epoch: 85 \tLoss: 0.003618\n",
            "Train Epoch:86------------------>\n",
            "Epoch: 86 \tLoss: 0.004835\n",
            "Train Epoch:87------------------>\n",
            "Epoch: 87 \tLoss: 0.003328\n",
            "Train Epoch:88------------------>\n",
            "Epoch: 88 \tLoss: 0.002652\n",
            "Train Epoch:89------------------>\n",
            "Epoch: 89 \tLoss: 0.003237\n",
            "Train Epoch:90------------------>\n",
            "Epoch: 90 \tLoss: 0.002619\n",
            "Train Epoch:91------------------>\n",
            "Epoch: 91 \tLoss: 0.003305\n",
            "Train Epoch:92------------------>\n",
            "Epoch: 92 \tLoss: 0.002319\n",
            "Train Epoch:93------------------>\n",
            "Epoch: 93 \tLoss: 0.002568\n",
            "Train Epoch:94------------------>\n",
            "Epoch: 94 \tLoss: 0.002626\n",
            "Train Epoch:95------------------>\n",
            "Epoch: 95 \tLoss: 0.002685\n",
            "Train Epoch:96------------------>\n",
            "Epoch: 96 \tLoss: 0.002352\n",
            "Train Epoch:97------------------>\n",
            "Epoch: 97 \tLoss: 0.002683\n",
            "Train Epoch:98------------------>\n",
            "Epoch: 98 \tLoss: 0.002699\n",
            "Train Epoch:99------------------>\n",
            "Epoch: 99 \tLoss: 0.002545\n"
          ],
          "name": "stdout"
        }
      ]
    },
    {
      "cell_type": "markdown",
      "metadata": {
        "id": "dPuhcQH5zvH3",
        "colab_type": "text"
      },
      "source": [
        "#Plot training accuracy wrt epochs"
      ]
    },
    {
      "cell_type": "code",
      "metadata": {
        "id": "nE38rioVvDV6",
        "colab_type": "code",
        "colab": {}
      },
      "source": [
        "def plot_loss(train_loss,name=\"train_loss.png\"):\n",
        " plt.plot(train_loss, label=\"train loss\")\n",
        " plt.legend()\n",
        " plt.show()\n",
        "def plot_mnist(numpy_all,numpy_labels,name=\"./embeddings_plot.png\"):\n",
        "  c = ['#ff0000', '#ffff00', '#00ff00', '#00ffff', '#0000ff','#ff00ff', '#990000', '#999900', '#009900', '#009999']\n",
        "  for i in range(10):\n",
        "   f = numpy_all[np.where(numpy_labels == i)]\n",
        "   plt.plot(f[:, 0], f[:, 1], '.', c=c[i])\n",
        "  plt.legend(['0', '1', '2', '3', '4', '5', '6', '7', '8', '9'])\n",
        "  plt.savefig(name)\n"
      ],
      "execution_count": 18,
      "outputs": []
    },
    {
      "cell_type": "code",
      "metadata": {
        "id": "IT_ZaA0Mv49P",
        "colab_type": "code",
        "colab": {
          "base_uri": "https://localhost:8080/",
          "height": 265
        },
        "outputId": "4f6a603e-b9c6-4937-eed6-dae05a2b52d3"
      },
      "source": [
        "plot_loss(train_loss)\n"
      ],
      "execution_count": 19,
      "outputs": [
        {
          "output_type": "display_data",
          "data": {
            "image/png": "[encoded data removed]",
            "text/plain": [
              "<Figure size 432x288 with 1 Axes>"
            ]
          },
          "metadata": {
            "tags": [],
            "needs_background": "light"
          }
        }
      ]
    },
    {
      "cell_type": "markdown",
      "metadata": {
        "id": "KSmkZGCXz8Ek",
        "colab_type": "text"
      },
      "source": [
        "#Test"
      ]
    },
    {
      "cell_type": "code",
      "metadata": {
        "id": "PqoCkWAGv63o",
        "colab_type": "code",
        "colab": {}
      },
      "source": [
        "def test_model(model):\n",
        "  model.eval()\n",
        "  all_ = []\n",
        "  all_labels = []\n",
        "  with torch.no_grad():\n",
        "    for batch_idx, (x, labels) in enumerate(test_loader):\n",
        "      x, labels = Variable(x), Variable(labels)\n",
        "      output = model.forward_once(x)\n",
        "      all_.extend(output.data.cpu().numpy().tolist())\n",
        "      all_labels.extend(labels.data.cpu().numpy().tolist())\n",
        "    numpy_all = np.array(all_)\n",
        "    numpy_labels = np.array(all_labels)\n",
        "    return numpy_all, numpy_labels\n",
        "def testing_plots(model):\n",
        "  dict_pickle={}\n",
        "  numpy_all, numpy_labels = test_model(model)\n",
        "  dict_pickle[\"numpy_all\"]=numpy_all\n",
        "  dict_pickle[\"numpy_labels\"]=numpy_labels\n",
        "  plot_mnist(numpy_all, numpy_labels)\n"
      ],
      "execution_count": 22,
      "outputs": []
    },
    {
      "cell_type": "code",
      "metadata": {
        "id": "AUBjNHghwIB6",
        "colab_type": "code",
        "colab": {
          "base_uri": "https://localhost:8080/",
          "height": 265
        },
        "outputId": "bd5b537e-f4a4-480b-87c7-d709383bee9a"
      },
      "source": [
        "testing_plots(model)"
      ],
      "execution_count": 23,
      "outputs": [
        {
          "output_type": "display_data",
          "data": {
            "image/png": "[encoded data removed]",
            "text/plain": [
              "<Figure size 432x288 with 1 Axes>"
            ]
          },
          "metadata": {
            "tags": [],
            "needs_background": "light"
          }
        }
      ]
    },
    {
      "cell_type": "code",
      "metadata": {
        "id": "7disVSPfwKBz",
        "colab_type": "code",
        "colab": {}
      },
      "source": [
        ""
      ],
      "execution_count": null,
      "outputs": []
    }
  ]
}